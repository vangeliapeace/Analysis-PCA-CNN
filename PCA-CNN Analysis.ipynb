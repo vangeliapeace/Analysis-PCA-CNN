{
  "nbformat": 4,
  "nbformat_minor": 0,
  "metadata": {
    "accelerator": "GPU",
    "colab": {
      "name": "[2301961084 | ANN FINAL EXAM] Number 2",
      "provenance": [],
      "collapsed_sections": [
        "5OC5gRsAgr0G",
        "mmTngZ4MfkPa",
        "h82NxOsRYDCi",
        "YRuDxlqdTiw_"
      ]
    },
    "kernelspec": {
      "display_name": "Python 3",
      "name": "python3"
    },
    "language_info": {
      "name": "python"
    }
  },
  "cells": [
    {
      "cell_type": "markdown",
      "metadata": {
        "id": "w2AxQXfQ0GZ8"
      },
      "source": [
        "**2301961084 - VANGELIA PEACE PALIJAMA**\n",
        "\n",
        "*ARTIFICIAL NEURAL NETWORK* ( LD01 )\n",
        "\n",
        "2020/2021"
      ]
    },
    {
      "cell_type": "markdown",
      "metadata": {
        "id": "5OC5gRsAgr0G"
      },
      "source": [
        "## **LIBRARY**"
      ]
    },
    {
      "cell_type": "code",
      "metadata": {
        "id": "8fi28uQWMuTf"
      },
      "source": [
        "import numpy as np\n",
        "import pandas as pd\n",
        "import matplotlib.pyplot as plt\n",
        "\n",
        "from tensorflow.keras.datasets import fashion_mnist\n",
        "from keras.utils.np_utils import to_categorical\n",
        "from keras.models import Sequential\n",
        "\n",
        "from keras.layers import Conv1D\n",
        "from keras.layers import MaxPooling1D, GlobalAveragePooling1D\n",
        "from keras.layers import Conv2D\n",
        "from keras.layers import MaxPooling2D\n",
        "from keras.regularizers import l2\n",
        "\n",
        "from keras.layers import Dense\n",
        "from keras.layers import Flatten\n",
        "from keras.layers import Dropout\n",
        "\n",
        "from sklearn.decomposition import PCA\n",
        "from sklearn.preprocessing import OneHotEncoder\n",
        "from sklearn.preprocessing import MinMaxScaler\n",
        "from sklearn.model_selection import train_test_split"
      ],
      "execution_count": null,
      "outputs": []
    },
    {
      "cell_type": "markdown",
      "metadata": {
        "id": "mmTngZ4MfkPa"
      },
      "source": [
        "## **FUNCTIONS USED**"
      ]
    },
    {
      "cell_type": "markdown",
      "metadata": {
        "id": "9zNUkrI_0REZ"
      },
      "source": [
        "> pixelscale() : untuk melakukan pre-processing/normalisasi (scaler) pada data gambar yang berformat pixel."
      ]
    },
    {
      "cell_type": "code",
      "metadata": {
        "id": "xnO4EB8Ifn-i"
      },
      "source": [
        "def pixelscale(x_train, x_test, x_val):\n",
        "    x_train = x_train.astype('float32')\n",
        "    x_test = x_test.astype('float32')\n",
        "    x_val = x_val.astype('float32')\n",
        "\n",
        "    # Menormalisasi data pixel menjadi angka diantara 0-1\n",
        "    x_train = x_train / 255.0\n",
        "    x_test = x_test / 255.0\n",
        "    x_val = x_val / 255.0\n",
        "\n",
        "    return x_train, x_test, x_val"
      ],
      "execution_count": null,
      "outputs": []
    },
    {
      "cell_type": "markdown",
      "metadata": {
        "id": "ye38pRHc0wbD"
      },
      "source": [
        "> CNN2D() : membangun model CNN untuk data input berbentuk 2D-matrix (dibangun dengan menggunakan *keras library*)."
      ]
    },
    {
      "cell_type": "code",
      "metadata": {
        "id": "wNBfMClMgKJm"
      },
      "source": [
        "def CNN2D():\n",
        "    # Membentuk model CNN\n",
        "    model = Sequential()\n",
        "    \n",
        "    # (Layer 1 - Input Layer) Menambahkan layer untuk menampung data input dengan jumlah node yang disetel sebanyak 32. \n",
        "    # - Ukuran kernel yang digunakan ialah 3 x 3, yang mengartikan bahwa akan dibentuk sebuah matrix dengan ukuran 3 x 3 yang berfungsi untuk mengekstrak fitur yang terdapat\n",
        "    #   dalam data input dengan cara melakukan operasi matrix dot antara matrix data dengan kernel.\n",
        "    # - Kernel initializer 'he_uniform' digunakan untuk menginitialisasi angka kernel secara random yang terdapat pada rentang limit dari distribusi uniform.\n",
        "    # - input_shape(28, 28, 1) menandakan bahwa ukuran x dan y pada gambar masing-masing ialah 28 pixel, dan gambar berwarna grayscale (angka 1).\n",
        "    # - activation function 'relu': digunakan untuk mengaktifkan neuron/node yang telah dibentuk. Keunggulan dari aktivasi ini ialah mampu mengatasi masalah vanishing gradient.\n",
        "    model.add(Conv2D(32, (3, 3), activation='relu', kernel_initializer='he_uniform', input_shape=(28, 28, 1)))\n",
        "    \n",
        "    # Max Pooling digunakan setelah menambah layer untuk mereduksi dimensi/parameter pada fitur gambar (downsampling) dengan mengambil angka terbesar/termaksimum\n",
        "    # di tiap area dengan ukuran matrix tertentu (pada kasus ini, ukuran yang digunakan ialah 2 x 2). \n",
        "    # Sebagai contoh, jika terdapat sebuah matrix: \n",
        "    # [ 3 2 5 9 ]\n",
        "    # [ 4 6 7 2 ]\n",
        "    # [ 1 1 1 8 ]\n",
        "    # [ 6 5 2 3 ],\n",
        "    # maka hasil Max Pooling dengan ukuran matrix 2 x 2 akan menjadi:\n",
        "    # [ 6 9 ]\n",
        "    # [ 6 8 ].\n",
        "    model.add(MaxPooling2D((2, 2)))\n",
        "    \n",
        "    # (Layer 2 - Hidden Layer) Menambahkan layer untuk menampung data dari input layer dengan jumlah node yang disetel sebanyak 64.\n",
        "    model.add(Conv2D(64, kernel_size = (3,3), activation = 'relu'))\n",
        "    # Melakukan downsampling kembali daripada data input dengan ukuran matrix sebesar 2 x 2.\n",
        "    model.add(MaxPooling2D(pool_size=(2,2)))\n",
        "\n",
        "    # Meratakan/menggabungkan tiap neuron pada channel menjadi hanya 1 channel.\n",
        "    # Sebagai contoh, data yang awalnya:\n",
        "    # [ 1 2 ]\n",
        "    # [ 4 3 ]\n",
        "    # jika dilakukan Flatten(), maka data akan menjadi:\n",
        "    # [ 1 2 4 3 ]. --> {fully connected layer}\n",
        "    # Fungsi ini digunakan agar hasil kalkulasi akhir (output) sesuai dengan jumlah neuron yang ditetapkan pada Dense Layer (yaitu 1 channel).\n",
        "    model.add(Flatten())\n",
        "\n",
        "    # # # # #\n",
        "    # model.add(Dense(128, activation='relu', kernel_initializer='he_uniform'))\n",
        "    # (Layer 4 - Output Layer) Menampung hasil akhir kalkulasi dari layer-layer sebelumnya.\n",
        "    # Terdapat 10 neuron pada layer ini, yang mengartikan bahwa ada 10 label/kategori yang diinginkan (terdapat 10 kategori pada dataset 'Fashion MNIST').\n",
        "    model.add(Dense(10, activation='softmax'))\n",
        "    \n",
        "    # Mengkonfigurasi model dengan menetapkan jenis optimizer, loss, dan metrics yang ingin dievaluasi selama proses training dan validating.\n",
        "    model.compile(optimizer='adam', loss='categorical_crossentropy', metrics=['accuracy'])\n",
        "    \n",
        "    return model"
      ],
      "execution_count": null,
      "outputs": []
    },
    {
      "cell_type": "markdown",
      "metadata": {
        "id": "ghtyiEmM0_ur"
      },
      "source": [
        "> CNN1D() : membangun model CNN untuk data input berbentuk 1D-matrix (dibangun dengan menggunakan *keras library*)."
      ]
    },
    {
      "cell_type": "code",
      "metadata": {
        "id": "aOQ7PrHT4F2l"
      },
      "source": [
        "def CNN1D():\n",
        "    # Membentuk model CNN\n",
        "    model = Sequential()\n",
        "\n",
        "    # (Layer 1 - Input Layer) Menambahkan layer untuk menampung data input dengan jumlah node yang disetel sebanyak 64. \n",
        "    # - Ukuran kernel yang digunakan ialah 3, yang mengartikan bahwa akan dibentuk sebuah matrix dengan ukuran (3,) yang berfungsi untuk mengekstrak fitur yang terdapat\n",
        "    #   dalam data input dengan cara melakukan operasi matrix dot antara matrix data dengan kernel.\n",
        "    # - Kernel initializer 'he_normal' digunakan untuk menginitialisasi angka kernel secara random yang terdapat pada rentang limit dari distribusi normal.\n",
        "    # - input_shape(10001, 1) menandakan bahwa data input memiliki 10001 fitur dan data akan diproses menjadi gambar berwarna grayscale (angka 1).\n",
        "    # - activation function 'relu': digunakan untuk mengaktifkan neuron/node yang telah dibentuk. Keunggulan dari aktivasi ini ialah mampu mengatasi masalah vanishing gradient.\n",
        "    model.add(Conv1D(64, 3, activation='relu',  kernel_initializer='he_normal', input_shape=(10001, 1)))\n",
        "\n",
        "    # Max Pooling dilakukan guna mereduksi dimensi/parameter pada fitur gambar (downsampling) dengan mengambil angka terbesar/termaksimum\n",
        "    # di tiap area dengan ukuran matrix tertentu (pada kasus ini, ukuran yang digunakan ialah (2,)).\n",
        "    model.add(MaxPooling1D(2))\n",
        "\n",
        "    # (Layer 2 - Hidden Layer) Menambahkan layer untuk menampung data dari input layer dengan jumlah node yang disetel sebanyak 64.\n",
        "    model.add(Conv1D(64, 3, activation='relu'))\n",
        "    # # Melakukan downsampling kembali daripada data input dengan ukuran matrix sebesar (2,)\n",
        "    model.add(MaxPooling1D(2))\n",
        "\n",
        "    # # (Layer 3 - Hidden Layer) Menambahkan layer untuk menampung data dari input layer dengan jumlah node yang disetel sebanyak 64.\n",
        "    model.add(Dense(64, activation='relu', kernel_initializer='he_normal'))\n",
        "    # GlobalAveragePooling1D(): Bersifat seperti fungsi Flatten() namun fungsi ini menghitung nilai rata-rata dari tiap input channel.\n",
        "    model.add(GlobalAveragePooling1D())\n",
        "\n",
        "    # Dropout: membuang sebanyak x neuron guna mencegah overfitting. (pada kasus ini, saya hendak membaung 40% dari total neuron yang ada)\n",
        "    model.add(Dropout(0.4))\n",
        "    # (Layer 4 - Output Layer) Membentuk 2 output neurons untuk menampung hasil komputasi untuk klasifikasi.\n",
        "    # Menggunakan activation function 'softmax' karena aktivasi ini berbasis fungsi logistik yang mampu menentukan nilai probabilitas terakhir/final untuk klasifikasi.\n",
        "    model.add(Dense(2, activation='softmax'))\n",
        "    \n",
        "    # Mengkonfigurasi model dengan menetapkan jenis optimizer, loss, dan metrics yang ingin dievaluasi selama proses training dan validating.\n",
        "    model.compile(optimizer='adam', loss='categorical_crossentropy', metrics=['accuracy'])\n",
        "    \n",
        "    return model"
      ],
      "execution_count": null,
      "outputs": []
    },
    {
      "cell_type": "markdown",
      "metadata": {
        "id": "S2xUNgk6makc"
      },
      "source": [
        "> convert(): Mengubah bentuk array yang sebelumnya > 2 dimensi menjadi 2 dimensi, yaitu: (jumlah data, jumlah fitur) dengan metode Flatten().\n",
        "\n",
        "Sebagai contoh, jika terdapat array:\n",
        "\n",
        "[[ 2 3 ]\n",
        "\n",
        " [ 4 5 ]] --> shape: (2, 2). \n",
        "\n",
        "Setelah dilakukan Flatten() akan menjadi: \n",
        "\n",
        "[[ 2 ]\n",
        "\n",
        "[ 3 ]\n",
        "\n",
        "[ 4 ]\n",
        "\n",
        "[ 5 ]] --> shape (4,)"
      ]
    },
    {
      "cell_type": "code",
      "metadata": {
        "id": "A3Q-ACrjaMbn"
      },
      "source": [
        "def convert(arr):\n",
        "    l = []\n",
        "    for i in range(arr.shape[0]):\n",
        "        l.append(arr[i].flatten())\n",
        "    l=np.array(l)\n",
        "    return l"
      ],
      "execution_count": null,
      "outputs": []
    },
    {
      "cell_type": "markdown",
      "metadata": {
        "id": "dnNGpr2MnkQU"
      },
      "source": [
        "> getPCA(): melakukan teknik PCA, yaitu mengekstrak/menyederhanakan dimensi dari sebuah data menjadi n-dimensi yang diinginkan dengan mentransformasi data secara linier."
      ]
    },
    {
      "cell_type": "code",
      "metadata": {
        "id": "tvDzY4KKbMbr"
      },
      "source": [
        "def getPCA(n, train, test, val):\n",
        "    pca = PCA(n_components = n)\n",
        "    pca = pca.fit(train)\n",
        "\n",
        "    train = pca.transform(train)\n",
        "    test = pca.transform(test)\n",
        "    val = pca.transform(val)\n",
        "    var = np.sum(pca.explained_variance_ratio_)\n",
        "\n",
        "    return pca, train, test, val, var"
      ],
      "execution_count": null,
      "outputs": []
    },
    {
      "cell_type": "markdown",
      "metadata": {
        "id": "vzZI7ETgqA_h"
      },
      "source": [
        "> plot_eval(): memvisualisasikan hasil evaluasi dari nilai akurasi dan loss yang didapatkan selama proses training."
      ]
    },
    {
      "cell_type": "code",
      "metadata": {
        "id": "uhnJuQd7vXZu"
      },
      "source": [
        "def plot_eval(history):\n",
        "    # Accuracy history plotting\n",
        "    plt.plot(history.history['accuracy'])\n",
        "    plt.plot(history.history['val_accuracy'])\n",
        "    plt.title('MODEL ACCURACY')\n",
        "    plt.ylabel('Accuracy')\n",
        "    plt.xlabel('Epoch')\n",
        "    plt.legend(['train', 'test'], loc='upper left')\n",
        "    plt.show()\n",
        "    print()\n",
        "    # Loss history plotting\n",
        "    plt.plot(history.history['loss'])\n",
        "    plt.plot(history.history['val_loss'])\n",
        "    plt.title('MODEL LOSS')\n",
        "    plt.ylabel('Loss')\n",
        "    plt.xlabel('Epoch')\n",
        "    plt.legend(['train', 'test'], loc='upper left')\n",
        "    plt.show()"
      ],
      "execution_count": null,
      "outputs": []
    },
    {
      "cell_type": "markdown",
      "metadata": {
        "id": "9nE-AB7vPizf"
      },
      "source": [
        "## **DNA DATASET**"
      ]
    },
    {
      "cell_type": "markdown",
      "metadata": {
        "id": "h82NxOsRYDCi"
      },
      "source": [
        "#### 1) IMPORT AND PRE-PROCESSING DATASET"
      ]
    },
    {
      "cell_type": "markdown",
      "metadata": {
        "id": "Pdlh6K0jTbbI"
      },
      "source": [
        "> Import dataset"
      ]
    },
    {
      "cell_type": "code",
      "metadata": {
        "colab": {
          "base_uri": "https://localhost:8080/",
          "height": 438
        },
        "id": "EPtheXYFM5iQ",
        "outputId": "21a14bcb-c318-49b4-ba43-b914c9f4d6e4"
      },
      "source": [
        "df = pd.read_csv('rawdata.csv')\n",
        "df = df.drop('SAMPLE_ID', axis=1)\n",
        "df"
      ],
      "execution_count": null,
      "outputs": [
        {
          "output_type": "execute_result",
          "data": {
            "text/html": [
              "<div>\n",
              "<style scoped>\n",
              "    .dataframe tbody tr th:only-of-type {\n",
              "        vertical-align: middle;\n",
              "    }\n",
              "\n",
              "    .dataframe tbody tr th {\n",
              "        vertical-align: top;\n",
              "    }\n",
              "\n",
              "    .dataframe thead th {\n",
              "        text-align: right;\n",
              "    }\n",
              "</style>\n",
              "<table border=\"1\" class=\"dataframe\">\n",
              "  <thead>\n",
              "    <tr style=\"text-align: right;\">\n",
              "      <th></th>\n",
              "      <th>snp_0</th>\n",
              "      <th>snp_1</th>\n",
              "      <th>snp_2</th>\n",
              "      <th>snp_3</th>\n",
              "      <th>snp_4</th>\n",
              "      <th>snp_5</th>\n",
              "      <th>snp_6</th>\n",
              "      <th>snp_7</th>\n",
              "      <th>snp_8</th>\n",
              "      <th>snp_9</th>\n",
              "      <th>snp_10</th>\n",
              "      <th>snp_11</th>\n",
              "      <th>snp_12</th>\n",
              "      <th>snp_13</th>\n",
              "      <th>snp_14</th>\n",
              "      <th>snp_15</th>\n",
              "      <th>snp_16</th>\n",
              "      <th>snp_17</th>\n",
              "      <th>snp_18</th>\n",
              "      <th>snp_19</th>\n",
              "      <th>snp_20</th>\n",
              "      <th>snp_21</th>\n",
              "      <th>snp_22</th>\n",
              "      <th>snp_23</th>\n",
              "      <th>snp_24</th>\n",
              "      <th>snp_25</th>\n",
              "      <th>snp_26</th>\n",
              "      <th>snp_27</th>\n",
              "      <th>snp_28</th>\n",
              "      <th>snp_29</th>\n",
              "      <th>snp_30</th>\n",
              "      <th>snp_31</th>\n",
              "      <th>snp_32</th>\n",
              "      <th>snp_33</th>\n",
              "      <th>snp_34</th>\n",
              "      <th>snp_35</th>\n",
              "      <th>snp_36</th>\n",
              "      <th>snp_37</th>\n",
              "      <th>snp_38</th>\n",
              "      <th>snp_39</th>\n",
              "      <th>...</th>\n",
              "      <th>snp_9962</th>\n",
              "      <th>snp_9963</th>\n",
              "      <th>snp_9964</th>\n",
              "      <th>snp_9965</th>\n",
              "      <th>snp_9966</th>\n",
              "      <th>snp_9967</th>\n",
              "      <th>snp_9968</th>\n",
              "      <th>snp_9969</th>\n",
              "      <th>snp_9970</th>\n",
              "      <th>snp_9971</th>\n",
              "      <th>snp_9972</th>\n",
              "      <th>snp_9973</th>\n",
              "      <th>snp_9974</th>\n",
              "      <th>snp_9975</th>\n",
              "      <th>snp_9976</th>\n",
              "      <th>snp_9977</th>\n",
              "      <th>snp_9978</th>\n",
              "      <th>snp_9979</th>\n",
              "      <th>snp_9980</th>\n",
              "      <th>snp_9981</th>\n",
              "      <th>snp_9982</th>\n",
              "      <th>snp_9983</th>\n",
              "      <th>snp_9984</th>\n",
              "      <th>snp_9985</th>\n",
              "      <th>snp_9986</th>\n",
              "      <th>snp_9987</th>\n",
              "      <th>snp_9988</th>\n",
              "      <th>snp_9989</th>\n",
              "      <th>snp_9990</th>\n",
              "      <th>snp_9991</th>\n",
              "      <th>snp_9992</th>\n",
              "      <th>snp_9993</th>\n",
              "      <th>snp_9994</th>\n",
              "      <th>snp_9995</th>\n",
              "      <th>snp_9996</th>\n",
              "      <th>snp_9997</th>\n",
              "      <th>snp_9998</th>\n",
              "      <th>snp_9999</th>\n",
              "      <th>snp_10000</th>\n",
              "      <th>STATUS</th>\n",
              "    </tr>\n",
              "  </thead>\n",
              "  <tbody>\n",
              "    <tr>\n",
              "      <th>0</th>\n",
              "      <td>1</td>\n",
              "      <td>0</td>\n",
              "      <td>0</td>\n",
              "      <td>1</td>\n",
              "      <td>1</td>\n",
              "      <td>2</td>\n",
              "      <td>2</td>\n",
              "      <td>2</td>\n",
              "      <td>2</td>\n",
              "      <td>2</td>\n",
              "      <td>2</td>\n",
              "      <td>1</td>\n",
              "      <td>2</td>\n",
              "      <td>2</td>\n",
              "      <td>2</td>\n",
              "      <td>2</td>\n",
              "      <td>2</td>\n",
              "      <td>2</td>\n",
              "      <td>2</td>\n",
              "      <td>0</td>\n",
              "      <td>0</td>\n",
              "      <td>2</td>\n",
              "      <td>2</td>\n",
              "      <td>2</td>\n",
              "      <td>2</td>\n",
              "      <td>1</td>\n",
              "      <td>1</td>\n",
              "      <td>2</td>\n",
              "      <td>2</td>\n",
              "      <td>2</td>\n",
              "      <td>2</td>\n",
              "      <td>2</td>\n",
              "      <td>2</td>\n",
              "      <td>0</td>\n",
              "      <td>0</td>\n",
              "      <td>0</td>\n",
              "      <td>0</td>\n",
              "      <td>2</td>\n",
              "      <td>2</td>\n",
              "      <td>1</td>\n",
              "      <td>...</td>\n",
              "      <td>1</td>\n",
              "      <td>2</td>\n",
              "      <td>2</td>\n",
              "      <td>1</td>\n",
              "      <td>2</td>\n",
              "      <td>1</td>\n",
              "      <td>2</td>\n",
              "      <td>2</td>\n",
              "      <td>1</td>\n",
              "      <td>2</td>\n",
              "      <td>2</td>\n",
              "      <td>1</td>\n",
              "      <td>2</td>\n",
              "      <td>2</td>\n",
              "      <td>2</td>\n",
              "      <td>1</td>\n",
              "      <td>2</td>\n",
              "      <td>2</td>\n",
              "      <td>2</td>\n",
              "      <td>2</td>\n",
              "      <td>2</td>\n",
              "      <td>2</td>\n",
              "      <td>2</td>\n",
              "      <td>2</td>\n",
              "      <td>2</td>\n",
              "      <td>2</td>\n",
              "      <td>2</td>\n",
              "      <td>2</td>\n",
              "      <td>1</td>\n",
              "      <td>1</td>\n",
              "      <td>2</td>\n",
              "      <td>2</td>\n",
              "      <td>2</td>\n",
              "      <td>1</td>\n",
              "      <td>2</td>\n",
              "      <td>1</td>\n",
              "      <td>2</td>\n",
              "      <td>1</td>\n",
              "      <td>2</td>\n",
              "      <td>1</td>\n",
              "    </tr>\n",
              "    <tr>\n",
              "      <th>1</th>\n",
              "      <td>1</td>\n",
              "      <td>0</td>\n",
              "      <td>0</td>\n",
              "      <td>1</td>\n",
              "      <td>1</td>\n",
              "      <td>2</td>\n",
              "      <td>2</td>\n",
              "      <td>1</td>\n",
              "      <td>2</td>\n",
              "      <td>2</td>\n",
              "      <td>2</td>\n",
              "      <td>1</td>\n",
              "      <td>2</td>\n",
              "      <td>1</td>\n",
              "      <td>2</td>\n",
              "      <td>2</td>\n",
              "      <td>2</td>\n",
              "      <td>2</td>\n",
              "      <td>2</td>\n",
              "      <td>0</td>\n",
              "      <td>0</td>\n",
              "      <td>2</td>\n",
              "      <td>2</td>\n",
              "      <td>2</td>\n",
              "      <td>2</td>\n",
              "      <td>2</td>\n",
              "      <td>2</td>\n",
              "      <td>1</td>\n",
              "      <td>1</td>\n",
              "      <td>1</td>\n",
              "      <td>2</td>\n",
              "      <td>0</td>\n",
              "      <td>0</td>\n",
              "      <td>0</td>\n",
              "      <td>0</td>\n",
              "      <td>0</td>\n",
              "      <td>0</td>\n",
              "      <td>2</td>\n",
              "      <td>2</td>\n",
              "      <td>2</td>\n",
              "      <td>...</td>\n",
              "      <td>1</td>\n",
              "      <td>2</td>\n",
              "      <td>2</td>\n",
              "      <td>1</td>\n",
              "      <td>2</td>\n",
              "      <td>1</td>\n",
              "      <td>2</td>\n",
              "      <td>2</td>\n",
              "      <td>1</td>\n",
              "      <td>2</td>\n",
              "      <td>2</td>\n",
              "      <td>2</td>\n",
              "      <td>2</td>\n",
              "      <td>2</td>\n",
              "      <td>2</td>\n",
              "      <td>1</td>\n",
              "      <td>2</td>\n",
              "      <td>2</td>\n",
              "      <td>2</td>\n",
              "      <td>1</td>\n",
              "      <td>2</td>\n",
              "      <td>1</td>\n",
              "      <td>2</td>\n",
              "      <td>2</td>\n",
              "      <td>2</td>\n",
              "      <td>2</td>\n",
              "      <td>2</td>\n",
              "      <td>2</td>\n",
              "      <td>2</td>\n",
              "      <td>1</td>\n",
              "      <td>1</td>\n",
              "      <td>1</td>\n",
              "      <td>2</td>\n",
              "      <td>2</td>\n",
              "      <td>2</td>\n",
              "      <td>1</td>\n",
              "      <td>2</td>\n",
              "      <td>2</td>\n",
              "      <td>2</td>\n",
              "      <td>2</td>\n",
              "    </tr>\n",
              "    <tr>\n",
              "      <th>2</th>\n",
              "      <td>1</td>\n",
              "      <td>0</td>\n",
              "      <td>0</td>\n",
              "      <td>1</td>\n",
              "      <td>2</td>\n",
              "      <td>2</td>\n",
              "      <td>2</td>\n",
              "      <td>1</td>\n",
              "      <td>2</td>\n",
              "      <td>2</td>\n",
              "      <td>2</td>\n",
              "      <td>1</td>\n",
              "      <td>2</td>\n",
              "      <td>1</td>\n",
              "      <td>1</td>\n",
              "      <td>2</td>\n",
              "      <td>2</td>\n",
              "      <td>2</td>\n",
              "      <td>2</td>\n",
              "      <td>0</td>\n",
              "      <td>0</td>\n",
              "      <td>2</td>\n",
              "      <td>2</td>\n",
              "      <td>2</td>\n",
              "      <td>2</td>\n",
              "      <td>1</td>\n",
              "      <td>2</td>\n",
              "      <td>1</td>\n",
              "      <td>2</td>\n",
              "      <td>1</td>\n",
              "      <td>2</td>\n",
              "      <td>2</td>\n",
              "      <td>2</td>\n",
              "      <td>0</td>\n",
              "      <td>0</td>\n",
              "      <td>0</td>\n",
              "      <td>0</td>\n",
              "      <td>2</td>\n",
              "      <td>2</td>\n",
              "      <td>1</td>\n",
              "      <td>...</td>\n",
              "      <td>1</td>\n",
              "      <td>2</td>\n",
              "      <td>2</td>\n",
              "      <td>2</td>\n",
              "      <td>2</td>\n",
              "      <td>1</td>\n",
              "      <td>2</td>\n",
              "      <td>2</td>\n",
              "      <td>1</td>\n",
              "      <td>2</td>\n",
              "      <td>2</td>\n",
              "      <td>1</td>\n",
              "      <td>2</td>\n",
              "      <td>2</td>\n",
              "      <td>2</td>\n",
              "      <td>2</td>\n",
              "      <td>2</td>\n",
              "      <td>2</td>\n",
              "      <td>2</td>\n",
              "      <td>2</td>\n",
              "      <td>2</td>\n",
              "      <td>2</td>\n",
              "      <td>2</td>\n",
              "      <td>1</td>\n",
              "      <td>2</td>\n",
              "      <td>2</td>\n",
              "      <td>2</td>\n",
              "      <td>2</td>\n",
              "      <td>1</td>\n",
              "      <td>1</td>\n",
              "      <td>2</td>\n",
              "      <td>2</td>\n",
              "      <td>2</td>\n",
              "      <td>1</td>\n",
              "      <td>2</td>\n",
              "      <td>2</td>\n",
              "      <td>2</td>\n",
              "      <td>1</td>\n",
              "      <td>2</td>\n",
              "      <td>2</td>\n",
              "    </tr>\n",
              "    <tr>\n",
              "      <th>3</th>\n",
              "      <td>1</td>\n",
              "      <td>0</td>\n",
              "      <td>0</td>\n",
              "      <td>1</td>\n",
              "      <td>1</td>\n",
              "      <td>2</td>\n",
              "      <td>2</td>\n",
              "      <td>1</td>\n",
              "      <td>2</td>\n",
              "      <td>2</td>\n",
              "      <td>2</td>\n",
              "      <td>1</td>\n",
              "      <td>1</td>\n",
              "      <td>2</td>\n",
              "      <td>2</td>\n",
              "      <td>2</td>\n",
              "      <td>2</td>\n",
              "      <td>2</td>\n",
              "      <td>2</td>\n",
              "      <td>0</td>\n",
              "      <td>0</td>\n",
              "      <td>2</td>\n",
              "      <td>2</td>\n",
              "      <td>2</td>\n",
              "      <td>2</td>\n",
              "      <td>1</td>\n",
              "      <td>1</td>\n",
              "      <td>2</td>\n",
              "      <td>2</td>\n",
              "      <td>2</td>\n",
              "      <td>2</td>\n",
              "      <td>2</td>\n",
              "      <td>2</td>\n",
              "      <td>0</td>\n",
              "      <td>0</td>\n",
              "      <td>0</td>\n",
              "      <td>0</td>\n",
              "      <td>2</td>\n",
              "      <td>2</td>\n",
              "      <td>2</td>\n",
              "      <td>...</td>\n",
              "      <td>1</td>\n",
              "      <td>1</td>\n",
              "      <td>1</td>\n",
              "      <td>1</td>\n",
              "      <td>2</td>\n",
              "      <td>1</td>\n",
              "      <td>2</td>\n",
              "      <td>1</td>\n",
              "      <td>1</td>\n",
              "      <td>2</td>\n",
              "      <td>2</td>\n",
              "      <td>1</td>\n",
              "      <td>2</td>\n",
              "      <td>2</td>\n",
              "      <td>2</td>\n",
              "      <td>2</td>\n",
              "      <td>2</td>\n",
              "      <td>1</td>\n",
              "      <td>2</td>\n",
              "      <td>2</td>\n",
              "      <td>2</td>\n",
              "      <td>2</td>\n",
              "      <td>2</td>\n",
              "      <td>2</td>\n",
              "      <td>2</td>\n",
              "      <td>2</td>\n",
              "      <td>2</td>\n",
              "      <td>1</td>\n",
              "      <td>1</td>\n",
              "      <td>2</td>\n",
              "      <td>2</td>\n",
              "      <td>2</td>\n",
              "      <td>2</td>\n",
              "      <td>1</td>\n",
              "      <td>2</td>\n",
              "      <td>2</td>\n",
              "      <td>2</td>\n",
              "      <td>1</td>\n",
              "      <td>2</td>\n",
              "      <td>2</td>\n",
              "    </tr>\n",
              "    <tr>\n",
              "      <th>4</th>\n",
              "      <td>1</td>\n",
              "      <td>0</td>\n",
              "      <td>0</td>\n",
              "      <td>1</td>\n",
              "      <td>1</td>\n",
              "      <td>2</td>\n",
              "      <td>2</td>\n",
              "      <td>1</td>\n",
              "      <td>2</td>\n",
              "      <td>2</td>\n",
              "      <td>2</td>\n",
              "      <td>2</td>\n",
              "      <td>2</td>\n",
              "      <td>2</td>\n",
              "      <td>2</td>\n",
              "      <td>2</td>\n",
              "      <td>2</td>\n",
              "      <td>2</td>\n",
              "      <td>2</td>\n",
              "      <td>2</td>\n",
              "      <td>2</td>\n",
              "      <td>2</td>\n",
              "      <td>2</td>\n",
              "      <td>2</td>\n",
              "      <td>2</td>\n",
              "      <td>1</td>\n",
              "      <td>1</td>\n",
              "      <td>2</td>\n",
              "      <td>2</td>\n",
              "      <td>2</td>\n",
              "      <td>2</td>\n",
              "      <td>2</td>\n",
              "      <td>2</td>\n",
              "      <td>2</td>\n",
              "      <td>2</td>\n",
              "      <td>2</td>\n",
              "      <td>2</td>\n",
              "      <td>1</td>\n",
              "      <td>2</td>\n",
              "      <td>1</td>\n",
              "      <td>...</td>\n",
              "      <td>1</td>\n",
              "      <td>1</td>\n",
              "      <td>2</td>\n",
              "      <td>1</td>\n",
              "      <td>2</td>\n",
              "      <td>2</td>\n",
              "      <td>2</td>\n",
              "      <td>2</td>\n",
              "      <td>1</td>\n",
              "      <td>2</td>\n",
              "      <td>2</td>\n",
              "      <td>2</td>\n",
              "      <td>2</td>\n",
              "      <td>2</td>\n",
              "      <td>2</td>\n",
              "      <td>2</td>\n",
              "      <td>2</td>\n",
              "      <td>1</td>\n",
              "      <td>2</td>\n",
              "      <td>2</td>\n",
              "      <td>2</td>\n",
              "      <td>2</td>\n",
              "      <td>2</td>\n",
              "      <td>1</td>\n",
              "      <td>2</td>\n",
              "      <td>2</td>\n",
              "      <td>2</td>\n",
              "      <td>2</td>\n",
              "      <td>1</td>\n",
              "      <td>1</td>\n",
              "      <td>2</td>\n",
              "      <td>2</td>\n",
              "      <td>2</td>\n",
              "      <td>2</td>\n",
              "      <td>2</td>\n",
              "      <td>2</td>\n",
              "      <td>2</td>\n",
              "      <td>2</td>\n",
              "      <td>2</td>\n",
              "      <td>1</td>\n",
              "    </tr>\n",
              "    <tr>\n",
              "      <th>...</th>\n",
              "      <td>...</td>\n",
              "      <td>...</td>\n",
              "      <td>...</td>\n",
              "      <td>...</td>\n",
              "      <td>...</td>\n",
              "      <td>...</td>\n",
              "      <td>...</td>\n",
              "      <td>...</td>\n",
              "      <td>...</td>\n",
              "      <td>...</td>\n",
              "      <td>...</td>\n",
              "      <td>...</td>\n",
              "      <td>...</td>\n",
              "      <td>...</td>\n",
              "      <td>...</td>\n",
              "      <td>...</td>\n",
              "      <td>...</td>\n",
              "      <td>...</td>\n",
              "      <td>...</td>\n",
              "      <td>...</td>\n",
              "      <td>...</td>\n",
              "      <td>...</td>\n",
              "      <td>...</td>\n",
              "      <td>...</td>\n",
              "      <td>...</td>\n",
              "      <td>...</td>\n",
              "      <td>...</td>\n",
              "      <td>...</td>\n",
              "      <td>...</td>\n",
              "      <td>...</td>\n",
              "      <td>...</td>\n",
              "      <td>...</td>\n",
              "      <td>...</td>\n",
              "      <td>...</td>\n",
              "      <td>...</td>\n",
              "      <td>...</td>\n",
              "      <td>...</td>\n",
              "      <td>...</td>\n",
              "      <td>...</td>\n",
              "      <td>...</td>\n",
              "      <td>...</td>\n",
              "      <td>...</td>\n",
              "      <td>...</td>\n",
              "      <td>...</td>\n",
              "      <td>...</td>\n",
              "      <td>...</td>\n",
              "      <td>...</td>\n",
              "      <td>...</td>\n",
              "      <td>...</td>\n",
              "      <td>...</td>\n",
              "      <td>...</td>\n",
              "      <td>...</td>\n",
              "      <td>...</td>\n",
              "      <td>...</td>\n",
              "      <td>...</td>\n",
              "      <td>...</td>\n",
              "      <td>...</td>\n",
              "      <td>...</td>\n",
              "      <td>...</td>\n",
              "      <td>...</td>\n",
              "      <td>...</td>\n",
              "      <td>...</td>\n",
              "      <td>...</td>\n",
              "      <td>...</td>\n",
              "      <td>...</td>\n",
              "      <td>...</td>\n",
              "      <td>...</td>\n",
              "      <td>...</td>\n",
              "      <td>...</td>\n",
              "      <td>...</td>\n",
              "      <td>...</td>\n",
              "      <td>...</td>\n",
              "      <td>...</td>\n",
              "      <td>...</td>\n",
              "      <td>...</td>\n",
              "      <td>...</td>\n",
              "      <td>...</td>\n",
              "      <td>...</td>\n",
              "      <td>...</td>\n",
              "      <td>...</td>\n",
              "      <td>...</td>\n",
              "    </tr>\n",
              "    <tr>\n",
              "      <th>84</th>\n",
              "      <td>1</td>\n",
              "      <td>0</td>\n",
              "      <td>0</td>\n",
              "      <td>1</td>\n",
              "      <td>1</td>\n",
              "      <td>1</td>\n",
              "      <td>1</td>\n",
              "      <td>2</td>\n",
              "      <td>2</td>\n",
              "      <td>2</td>\n",
              "      <td>2</td>\n",
              "      <td>1</td>\n",
              "      <td>2</td>\n",
              "      <td>2</td>\n",
              "      <td>2</td>\n",
              "      <td>2</td>\n",
              "      <td>2</td>\n",
              "      <td>2</td>\n",
              "      <td>2</td>\n",
              "      <td>2</td>\n",
              "      <td>2</td>\n",
              "      <td>2</td>\n",
              "      <td>2</td>\n",
              "      <td>2</td>\n",
              "      <td>2</td>\n",
              "      <td>1</td>\n",
              "      <td>1</td>\n",
              "      <td>2</td>\n",
              "      <td>2</td>\n",
              "      <td>2</td>\n",
              "      <td>2</td>\n",
              "      <td>2</td>\n",
              "      <td>2</td>\n",
              "      <td>2</td>\n",
              "      <td>2</td>\n",
              "      <td>2</td>\n",
              "      <td>2</td>\n",
              "      <td>2</td>\n",
              "      <td>2</td>\n",
              "      <td>1</td>\n",
              "      <td>...</td>\n",
              "      <td>2</td>\n",
              "      <td>2</td>\n",
              "      <td>2</td>\n",
              "      <td>2</td>\n",
              "      <td>2</td>\n",
              "      <td>1</td>\n",
              "      <td>2</td>\n",
              "      <td>2</td>\n",
              "      <td>2</td>\n",
              "      <td>2</td>\n",
              "      <td>2</td>\n",
              "      <td>2</td>\n",
              "      <td>2</td>\n",
              "      <td>2</td>\n",
              "      <td>2</td>\n",
              "      <td>2</td>\n",
              "      <td>2</td>\n",
              "      <td>2</td>\n",
              "      <td>2</td>\n",
              "      <td>2</td>\n",
              "      <td>2</td>\n",
              "      <td>2</td>\n",
              "      <td>2</td>\n",
              "      <td>2</td>\n",
              "      <td>2</td>\n",
              "      <td>2</td>\n",
              "      <td>2</td>\n",
              "      <td>1</td>\n",
              "      <td>1</td>\n",
              "      <td>2</td>\n",
              "      <td>2</td>\n",
              "      <td>2</td>\n",
              "      <td>2</td>\n",
              "      <td>1</td>\n",
              "      <td>1</td>\n",
              "      <td>2</td>\n",
              "      <td>2</td>\n",
              "      <td>1</td>\n",
              "      <td>1</td>\n",
              "      <td>2</td>\n",
              "    </tr>\n",
              "    <tr>\n",
              "      <th>85</th>\n",
              "      <td>1</td>\n",
              "      <td>0</td>\n",
              "      <td>0</td>\n",
              "      <td>1</td>\n",
              "      <td>2</td>\n",
              "      <td>2</td>\n",
              "      <td>2</td>\n",
              "      <td>1</td>\n",
              "      <td>2</td>\n",
              "      <td>2</td>\n",
              "      <td>2</td>\n",
              "      <td>1</td>\n",
              "      <td>1</td>\n",
              "      <td>2</td>\n",
              "      <td>2</td>\n",
              "      <td>2</td>\n",
              "      <td>2</td>\n",
              "      <td>2</td>\n",
              "      <td>2</td>\n",
              "      <td>2</td>\n",
              "      <td>2</td>\n",
              "      <td>2</td>\n",
              "      <td>2</td>\n",
              "      <td>2</td>\n",
              "      <td>2</td>\n",
              "      <td>1</td>\n",
              "      <td>2</td>\n",
              "      <td>1</td>\n",
              "      <td>2</td>\n",
              "      <td>1</td>\n",
              "      <td>2</td>\n",
              "      <td>2</td>\n",
              "      <td>2</td>\n",
              "      <td>1</td>\n",
              "      <td>2</td>\n",
              "      <td>2</td>\n",
              "      <td>2</td>\n",
              "      <td>1</td>\n",
              "      <td>2</td>\n",
              "      <td>2</td>\n",
              "      <td>...</td>\n",
              "      <td>1</td>\n",
              "      <td>1</td>\n",
              "      <td>2</td>\n",
              "      <td>1</td>\n",
              "      <td>2</td>\n",
              "      <td>1</td>\n",
              "      <td>2</td>\n",
              "      <td>1</td>\n",
              "      <td>1</td>\n",
              "      <td>2</td>\n",
              "      <td>2</td>\n",
              "      <td>1</td>\n",
              "      <td>2</td>\n",
              "      <td>2</td>\n",
              "      <td>2</td>\n",
              "      <td>2</td>\n",
              "      <td>2</td>\n",
              "      <td>1</td>\n",
              "      <td>2</td>\n",
              "      <td>2</td>\n",
              "      <td>2</td>\n",
              "      <td>2</td>\n",
              "      <td>2</td>\n",
              "      <td>2</td>\n",
              "      <td>2</td>\n",
              "      <td>2</td>\n",
              "      <td>2</td>\n",
              "      <td>1</td>\n",
              "      <td>1</td>\n",
              "      <td>2</td>\n",
              "      <td>2</td>\n",
              "      <td>2</td>\n",
              "      <td>2</td>\n",
              "      <td>1</td>\n",
              "      <td>2</td>\n",
              "      <td>2</td>\n",
              "      <td>2</td>\n",
              "      <td>1</td>\n",
              "      <td>2</td>\n",
              "      <td>2</td>\n",
              "    </tr>\n",
              "    <tr>\n",
              "      <th>86</th>\n",
              "      <td>1</td>\n",
              "      <td>0</td>\n",
              "      <td>0</td>\n",
              "      <td>1</td>\n",
              "      <td>2</td>\n",
              "      <td>1</td>\n",
              "      <td>2</td>\n",
              "      <td>2</td>\n",
              "      <td>2</td>\n",
              "      <td>2</td>\n",
              "      <td>2</td>\n",
              "      <td>2</td>\n",
              "      <td>2</td>\n",
              "      <td>2</td>\n",
              "      <td>2</td>\n",
              "      <td>2</td>\n",
              "      <td>2</td>\n",
              "      <td>0</td>\n",
              "      <td>0</td>\n",
              "      <td>2</td>\n",
              "      <td>2</td>\n",
              "      <td>0</td>\n",
              "      <td>0</td>\n",
              "      <td>0</td>\n",
              "      <td>0</td>\n",
              "      <td>1</td>\n",
              "      <td>2</td>\n",
              "      <td>2</td>\n",
              "      <td>2</td>\n",
              "      <td>2</td>\n",
              "      <td>2</td>\n",
              "      <td>0</td>\n",
              "      <td>0</td>\n",
              "      <td>2</td>\n",
              "      <td>2</td>\n",
              "      <td>2</td>\n",
              "      <td>2</td>\n",
              "      <td>1</td>\n",
              "      <td>2</td>\n",
              "      <td>1</td>\n",
              "      <td>...</td>\n",
              "      <td>1</td>\n",
              "      <td>1</td>\n",
              "      <td>2</td>\n",
              "      <td>1</td>\n",
              "      <td>1</td>\n",
              "      <td>1</td>\n",
              "      <td>1</td>\n",
              "      <td>1</td>\n",
              "      <td>1</td>\n",
              "      <td>2</td>\n",
              "      <td>2</td>\n",
              "      <td>2</td>\n",
              "      <td>2</td>\n",
              "      <td>2</td>\n",
              "      <td>2</td>\n",
              "      <td>1</td>\n",
              "      <td>2</td>\n",
              "      <td>2</td>\n",
              "      <td>2</td>\n",
              "      <td>1</td>\n",
              "      <td>2</td>\n",
              "      <td>1</td>\n",
              "      <td>2</td>\n",
              "      <td>2</td>\n",
              "      <td>2</td>\n",
              "      <td>2</td>\n",
              "      <td>2</td>\n",
              "      <td>2</td>\n",
              "      <td>2</td>\n",
              "      <td>1</td>\n",
              "      <td>2</td>\n",
              "      <td>2</td>\n",
              "      <td>2</td>\n",
              "      <td>2</td>\n",
              "      <td>2</td>\n",
              "      <td>1</td>\n",
              "      <td>1</td>\n",
              "      <td>2</td>\n",
              "      <td>2</td>\n",
              "      <td>1</td>\n",
              "    </tr>\n",
              "    <tr>\n",
              "      <th>87</th>\n",
              "      <td>1</td>\n",
              "      <td>0</td>\n",
              "      <td>0</td>\n",
              "      <td>1</td>\n",
              "      <td>2</td>\n",
              "      <td>2</td>\n",
              "      <td>2</td>\n",
              "      <td>2</td>\n",
              "      <td>2</td>\n",
              "      <td>2</td>\n",
              "      <td>2</td>\n",
              "      <td>1</td>\n",
              "      <td>2</td>\n",
              "      <td>2</td>\n",
              "      <td>2</td>\n",
              "      <td>2</td>\n",
              "      <td>2</td>\n",
              "      <td>2</td>\n",
              "      <td>2</td>\n",
              "      <td>2</td>\n",
              "      <td>2</td>\n",
              "      <td>2</td>\n",
              "      <td>2</td>\n",
              "      <td>2</td>\n",
              "      <td>2</td>\n",
              "      <td>1</td>\n",
              "      <td>2</td>\n",
              "      <td>2</td>\n",
              "      <td>2</td>\n",
              "      <td>2</td>\n",
              "      <td>2</td>\n",
              "      <td>2</td>\n",
              "      <td>2</td>\n",
              "      <td>2</td>\n",
              "      <td>2</td>\n",
              "      <td>2</td>\n",
              "      <td>2</td>\n",
              "      <td>2</td>\n",
              "      <td>2</td>\n",
              "      <td>2</td>\n",
              "      <td>...</td>\n",
              "      <td>1</td>\n",
              "      <td>2</td>\n",
              "      <td>2</td>\n",
              "      <td>1</td>\n",
              "      <td>1</td>\n",
              "      <td>1</td>\n",
              "      <td>1</td>\n",
              "      <td>1</td>\n",
              "      <td>1</td>\n",
              "      <td>2</td>\n",
              "      <td>2</td>\n",
              "      <td>2</td>\n",
              "      <td>2</td>\n",
              "      <td>2</td>\n",
              "      <td>2</td>\n",
              "      <td>1</td>\n",
              "      <td>2</td>\n",
              "      <td>2</td>\n",
              "      <td>2</td>\n",
              "      <td>2</td>\n",
              "      <td>2</td>\n",
              "      <td>2</td>\n",
              "      <td>2</td>\n",
              "      <td>2</td>\n",
              "      <td>2</td>\n",
              "      <td>2</td>\n",
              "      <td>2</td>\n",
              "      <td>2</td>\n",
              "      <td>1</td>\n",
              "      <td>1</td>\n",
              "      <td>2</td>\n",
              "      <td>2</td>\n",
              "      <td>2</td>\n",
              "      <td>1</td>\n",
              "      <td>2</td>\n",
              "      <td>1</td>\n",
              "      <td>2</td>\n",
              "      <td>1</td>\n",
              "      <td>1</td>\n",
              "      <td>1</td>\n",
              "    </tr>\n",
              "    <tr>\n",
              "      <th>88</th>\n",
              "      <td>1</td>\n",
              "      <td>0</td>\n",
              "      <td>0</td>\n",
              "      <td>1</td>\n",
              "      <td>2</td>\n",
              "      <td>2</td>\n",
              "      <td>2</td>\n",
              "      <td>2</td>\n",
              "      <td>2</td>\n",
              "      <td>2</td>\n",
              "      <td>2</td>\n",
              "      <td>2</td>\n",
              "      <td>2</td>\n",
              "      <td>1</td>\n",
              "      <td>2</td>\n",
              "      <td>2</td>\n",
              "      <td>2</td>\n",
              "      <td>0</td>\n",
              "      <td>0</td>\n",
              "      <td>2</td>\n",
              "      <td>2</td>\n",
              "      <td>0</td>\n",
              "      <td>0</td>\n",
              "      <td>2</td>\n",
              "      <td>2</td>\n",
              "      <td>1</td>\n",
              "      <td>2</td>\n",
              "      <td>1</td>\n",
              "      <td>2</td>\n",
              "      <td>1</td>\n",
              "      <td>2</td>\n",
              "      <td>2</td>\n",
              "      <td>2</td>\n",
              "      <td>1</td>\n",
              "      <td>2</td>\n",
              "      <td>2</td>\n",
              "      <td>2</td>\n",
              "      <td>2</td>\n",
              "      <td>2</td>\n",
              "      <td>1</td>\n",
              "      <td>...</td>\n",
              "      <td>1</td>\n",
              "      <td>1</td>\n",
              "      <td>2</td>\n",
              "      <td>1</td>\n",
              "      <td>1</td>\n",
              "      <td>1</td>\n",
              "      <td>2</td>\n",
              "      <td>1</td>\n",
              "      <td>1</td>\n",
              "      <td>2</td>\n",
              "      <td>2</td>\n",
              "      <td>2</td>\n",
              "      <td>2</td>\n",
              "      <td>2</td>\n",
              "      <td>2</td>\n",
              "      <td>1</td>\n",
              "      <td>2</td>\n",
              "      <td>1</td>\n",
              "      <td>2</td>\n",
              "      <td>2</td>\n",
              "      <td>2</td>\n",
              "      <td>2</td>\n",
              "      <td>2</td>\n",
              "      <td>2</td>\n",
              "      <td>2</td>\n",
              "      <td>2</td>\n",
              "      <td>2</td>\n",
              "      <td>2</td>\n",
              "      <td>1</td>\n",
              "      <td>1</td>\n",
              "      <td>2</td>\n",
              "      <td>2</td>\n",
              "      <td>2</td>\n",
              "      <td>2</td>\n",
              "      <td>2</td>\n",
              "      <td>1</td>\n",
              "      <td>2</td>\n",
              "      <td>2</td>\n",
              "      <td>2</td>\n",
              "      <td>2</td>\n",
              "    </tr>\n",
              "  </tbody>\n",
              "</table>\n",
              "<p>89 rows × 10002 columns</p>\n",
              "</div>"
            ],
            "text/plain": [
              "    snp_0  snp_1  snp_2  snp_3  ...  snp_9998  snp_9999  snp_10000  STATUS\n",
              "0       1      0      0      1  ...         2         1          2       1\n",
              "1       1      0      0      1  ...         2         2          2       2\n",
              "2       1      0      0      1  ...         2         1          2       2\n",
              "3       1      0      0      1  ...         2         1          2       2\n",
              "4       1      0      0      1  ...         2         2          2       1\n",
              "..    ...    ...    ...    ...  ...       ...       ...        ...     ...\n",
              "84      1      0      0      1  ...         2         1          1       2\n",
              "85      1      0      0      1  ...         2         1          2       2\n",
              "86      1      0      0      1  ...         1         2          2       1\n",
              "87      1      0      0      1  ...         2         1          1       1\n",
              "88      1      0      0      1  ...         2         2          2       2\n",
              "\n",
              "[89 rows x 10002 columns]"
            ]
          },
          "metadata": {
            "tags": []
          },
          "execution_count": 8
        }
      ]
    },
    {
      "cell_type": "markdown",
      "metadata": {
        "id": "5TcoXbIHQxTM"
      },
      "source": [
        "> Melakukan split dataset (menjadi features-x dan label-y)."
      ]
    },
    {
      "cell_type": "code",
      "metadata": {
        "id": "NqvXEXlBJaTl"
      },
      "source": [
        "x = df.iloc[:, :-1].values\n",
        "y = df.iloc[:, -1].values.reshape(-1, 1)"
      ],
      "execution_count": null,
      "outputs": []
    },
    {
      "cell_type": "markdown",
      "metadata": {
        "id": "lYWvB-jFVlDd"
      },
      "source": [
        "> Melakukan pre-processing data dengan melakukan OneHotEncoder pada data sehingga menghasilkan data dalam bentuk biner."
      ]
    },
    {
      "cell_type": "code",
      "metadata": {
        "id": "6JLRO0daITrX"
      },
      "source": [
        "# Pre-processing data 'features-x'\n",
        "x = x.astype('float32')\n",
        "scaler = MinMaxScaler().fit(x)\n",
        "x = scaler.transform(x)\n",
        "# Pre-processing data 'label-y'\n",
        "encoder = OneHotEncoder().fit(y)\n",
        "y = encoder.transform(y).toarray()"
      ],
      "execution_count": null,
      "outputs": []
    },
    {
      "cell_type": "markdown",
      "metadata": {
        "id": "CtqH7J_VTLu2"
      },
      "source": [
        "> Membagi kembali dataset menjadi data training dan testing dengan ukuran ratio 50:7 (disesuaikan dengan ukuran ratio pada train-test data 'Fashion MNIST')"
      ]
    },
    {
      "cell_type": "code",
      "metadata": {
        "id": "cdI7KiVEJsEY"
      },
      "source": [
        "x_train, x_test, y_train, y_test = train_test_split(x, y, train_size=0.86, random_state=1)"
      ],
      "execution_count": null,
      "outputs": []
    },
    {
      "cell_type": "markdown",
      "metadata": {
        "id": "zSY9LtjvVUSc"
      },
      "source": [
        "> Membagi kembali data pada test set untuk keperluan validasi dengan ukuran ratio (3:2)."
      ]
    },
    {
      "cell_type": "code",
      "metadata": {
        "id": "pxnTLvLDjgoS"
      },
      "source": [
        "x_test, x_val, y_test, y_val = train_test_split(x_test, y_test, train_size=0.6, random_state=1)"
      ],
      "execution_count": null,
      "outputs": []
    },
    {
      "cell_type": "code",
      "metadata": {
        "colab": {
          "base_uri": "https://localhost:8080/"
        },
        "id": "ByN9jUkWa6PY",
        "outputId": "17ad2c3e-5017-4f0a-c6e8-881c77353f8e"
      },
      "source": [
        "print(f\"x_train shape\\t: {x_train.shape}\")\n",
        "print(f\"x_test shape\\t: {x_test.shape}\")\n",
        "print(f\"x_val shape\\t: {x_val.shape}\")"
      ],
      "execution_count": null,
      "outputs": [
        {
          "output_type": "stream",
          "text": [
            "x_train shape\t: (76, 10001)\n",
            "x_test shape\t: (7, 10001)\n",
            "x_val shape\t: (6, 10001)\n"
          ],
          "name": "stdout"
        }
      ]
    },
    {
      "cell_type": "markdown",
      "metadata": {
        "id": "pdSkdJwCWiHB"
      },
      "source": [
        "> Melakukan reshape pada data features-x agar dapat diproses dalam model CNN yang menerima input 3-channel, yaitu: (jumlah data keseluruhan, jumlah fitur pada data, dan ukuran channel dari warna gambar [1-grayscale, 3-RGB])."
      ]
    },
    {
      "cell_type": "code",
      "metadata": {
        "id": "8jbxSUdmbk-v"
      },
      "source": [
        "x_train = np.reshape(x_train, (x_train.shape[0], x_train.shape[1], 1))\n",
        "x_test = np.reshape(x_test, (x_test.shape[0], x_test.shape[1], 1))\n",
        "x_val = np.reshape(x_val, (x_val.shape[0], x_val.shape[1], 1))"
      ],
      "execution_count": null,
      "outputs": []
    },
    {
      "cell_type": "code",
      "metadata": {
        "colab": {
          "base_uri": "https://localhost:8080/"
        },
        "id": "SF6tSDshO7g1",
        "outputId": "18310286-0896-4ba1-89c2-8077fb5cfd42"
      },
      "source": [
        "x_train[0]"
      ],
      "execution_count": null,
      "outputs": [
        {
          "output_type": "execute_result",
          "data": {
            "text/plain": [
              "array([[0.],\n",
              "       [0.],\n",
              "       [0.],\n",
              "       ...,\n",
              "       [1.],\n",
              "       [0.],\n",
              "       [0.]], dtype=float32)"
            ]
          },
          "metadata": {
            "tags": []
          },
          "execution_count": 15
        }
      ]
    },
    {
      "cell_type": "markdown",
      "metadata": {
        "id": "JNg7SkbtNQqk"
      },
      "source": [
        "#### 2) CNN IMPLEMENTATION (without PCA)"
      ]
    },
    {
      "cell_type": "markdown",
      "metadata": {
        "id": "UfzWlGTFYTDF"
      },
      "source": [
        "> Memanggil function CNN1D() untuk membangun model CNN untuk dataset 1D-matrix.\n",
        "\n",
        "> Melakukan training pada model CNN dengan function 'model.fit' dengan menggunakan training set, yang mana tiap epoch akan melakukan 76/2 iterasi (dikarenakan jumlah dataset = 76 dan batch_size = 2).\n",
        "\n",
        "> Hasil training model akan divalidasi menggunakan validating set."
      ]
    },
    {
      "cell_type": "code",
      "metadata": {
        "colab": {
          "base_uri": "https://localhost:8080/"
        },
        "id": "A09mZMBX-VgE",
        "outputId": "654cc320-02cb-4697-89b8-67f7a2e00049"
      },
      "source": [
        "dna_model = CNN1D()\n",
        "history = dna_model.fit(x_train, y_train, epochs=20, batch_size=2, validation_data=(x_val, y_val), verbose=1)"
      ],
      "execution_count": null,
      "outputs": [
        {
          "output_type": "stream",
          "text": [
            "Epoch 1/20\n",
            "38/38 [==============================] - 45s 22ms/step - loss: 0.9998 - accuracy: 0.5101 - val_loss: 0.6914 - val_accuracy: 0.6667\n",
            "Epoch 2/20\n",
            "38/38 [==============================] - 0s 5ms/step - loss: 0.7599 - accuracy: 0.5010 - val_loss: 0.8113 - val_accuracy: 0.3333\n",
            "Epoch 3/20\n",
            "38/38 [==============================] - 0s 5ms/step - loss: 0.7065 - accuracy: 0.5037 - val_loss: 0.6984 - val_accuracy: 0.3333\n",
            "Epoch 4/20\n",
            "38/38 [==============================] - 0s 4ms/step - loss: 0.7368 - accuracy: 0.4811 - val_loss: 0.7845 - val_accuracy: 0.3333\n",
            "Epoch 5/20\n",
            "38/38 [==============================] - 0s 4ms/step - loss: 0.7435 - accuracy: 0.5463 - val_loss: 0.6810 - val_accuracy: 0.6667\n",
            "Epoch 6/20\n",
            "38/38 [==============================] - 0s 4ms/step - loss: 0.6915 - accuracy: 0.5306 - val_loss: 0.7150 - val_accuracy: 0.3333\n",
            "Epoch 7/20\n",
            "38/38 [==============================] - 0s 4ms/step - loss: 0.7304 - accuracy: 0.4215 - val_loss: 0.6798 - val_accuracy: 0.6667\n",
            "Epoch 8/20\n",
            "38/38 [==============================] - 0s 4ms/step - loss: 0.7055 - accuracy: 0.4459 - val_loss: 0.7101 - val_accuracy: 0.3333\n",
            "Epoch 9/20\n",
            "38/38 [==============================] - 0s 4ms/step - loss: 0.7130 - accuracy: 0.4492 - val_loss: 0.7004 - val_accuracy: 0.3333\n",
            "Epoch 10/20\n",
            "38/38 [==============================] - 0s 4ms/step - loss: 0.7022 - accuracy: 0.4159 - val_loss: 0.6913 - val_accuracy: 0.6667\n",
            "Epoch 11/20\n",
            "38/38 [==============================] - 0s 4ms/step - loss: 0.7215 - accuracy: 0.3223 - val_loss: 0.7139 - val_accuracy: 0.3333\n",
            "Epoch 12/20\n",
            "38/38 [==============================] - 0s 4ms/step - loss: 0.7155 - accuracy: 0.4344 - val_loss: 0.7167 - val_accuracy: 0.3333\n",
            "Epoch 13/20\n",
            "38/38 [==============================] - 0s 4ms/step - loss: 0.6875 - accuracy: 0.4765 - val_loss: 0.7161 - val_accuracy: 0.3333\n",
            "Epoch 14/20\n",
            "38/38 [==============================] - 0s 4ms/step - loss: 0.6794 - accuracy: 0.6641 - val_loss: 0.6992 - val_accuracy: 0.3333\n",
            "Epoch 15/20\n",
            "38/38 [==============================] - 0s 4ms/step - loss: 0.6987 - accuracy: 0.4407 - val_loss: 0.7095 - val_accuracy: 0.3333\n",
            "Epoch 16/20\n",
            "38/38 [==============================] - 0s 4ms/step - loss: 0.6789 - accuracy: 0.5871 - val_loss: 0.6947 - val_accuracy: 0.3333\n",
            "Epoch 17/20\n",
            "38/38 [==============================] - 0s 4ms/step - loss: 0.6930 - accuracy: 0.5039 - val_loss: 0.7113 - val_accuracy: 0.3333\n",
            "Epoch 18/20\n",
            "38/38 [==============================] - 0s 4ms/step - loss: 0.6954 - accuracy: 0.5489 - val_loss: 0.6970 - val_accuracy: 0.3333\n",
            "Epoch 19/20\n",
            "38/38 [==============================] - 0s 4ms/step - loss: 0.7028 - accuracy: 0.4156 - val_loss: 0.6914 - val_accuracy: 0.6667\n",
            "Epoch 20/20\n",
            "38/38 [==============================] - 0s 4ms/step - loss: 0.6901 - accuracy: 0.4959 - val_loss: 0.6983 - val_accuracy: 0.3333\n"
          ],
          "name": "stdout"
        }
      ]
    },
    {
      "cell_type": "markdown",
      "metadata": {
        "id": "uxvZ97X4ahc6"
      },
      "source": [
        "> Melakukan evaluasi/testing pada model yang sudah dilakukan training sebelumnya dengan menggunakan testing dataset dengan batch_size = 1 dikarenakan hanya terdapat 7 data pada testing dataset."
      ]
    },
    {
      "cell_type": "code",
      "metadata": {
        "colab": {
          "base_uri": "https://localhost:8080/"
        },
        "id": "38Bnw6YwLMIK",
        "outputId": "2438fff4-4c2e-4500-a3d0-01d98e5a0f98"
      },
      "source": [
        "dna_model.evaluate(x_test, y_test, batch_size=1)"
      ],
      "execution_count": null,
      "outputs": [
        {
          "output_type": "stream",
          "text": [
            "7/7 [==============================] - 0s 3ms/step - loss: 0.6908 - accuracy: 0.5714\n"
          ],
          "name": "stdout"
        },
        {
          "output_type": "execute_result",
          "data": {
            "text/plain": [
              "[0.6908454298973083, 0.5714285969734192]"
            ]
          },
          "metadata": {
            "tags": []
          },
          "execution_count": 17
        }
      ]
    },
    {
      "cell_type": "markdown",
      "metadata": {
        "id": "EHIIxmSY3ACb"
      },
      "source": [
        "> Melakukan evaluation model plotting pada hasil training dan validation yang dilakukan sebelumnya pada 'model.fit'."
      ]
    },
    {
      "cell_type": "code",
      "metadata": {
        "colab": {
          "base_uri": "https://localhost:8080/",
          "height": 591
        },
        "id": "4ZqKsqcSucCz",
        "outputId": "15caf5a2-b5d9-495f-9620-9680588f9365"
      },
      "source": [
        "plot_eval(history)"
      ],
      "execution_count": null,
      "outputs": [
        {
          "output_type": "display_data",
          "data": {
            "image/png": "[encoded data removed]",
            "text/plain": [
              "<Figure size 432x288 with 1 Axes>"
            ]
          },
          "metadata": {
            "tags": [],
            "needs_background": "light"
          }
        },
        {
          "output_type": "stream",
          "text": [
            "\n"
          ],
          "name": "stdout"
        },
        {
          "output_type": "display_data",
          "data": {
            "image/png": "[encoded data removed]",
            "text/plain": [
              "<Figure size 432x288 with 1 Axes>"
            ]
          },
          "metadata": {
            "tags": [],
            "needs_background": "light"
          }
        }
      ]
    },
    {
      "cell_type": "markdown",
      "metadata": {
        "id": "9kySjX9JPj9a"
      },
      "source": [
        "> Melalui plotting ini, dapat terlihat bahwa loss terus berkurang seiring berjalannya epoch. Namun, akurasi model terlihat tidak stabil (pada beberapa epoch, angka melesat tinggi namun langsung turun pada epoch selanjutnya). Hal ini menyimpulkan bahwa model yang dilatih tidak terlalu bekerja dengan baik."
      ]
    },
    {
      "cell_type": "markdown",
      "metadata": {
        "id": "Yik_N_BFFRuZ"
      },
      "source": [
        "#### 3) CNN IMPLEMENTATION (with PCA)"
      ]
    },
    {
      "cell_type": "markdown",
      "metadata": {
        "id": "igK1sVAYmBl3"
      },
      "source": [
        "> Mengubah shape array yang sebelumnya 3D-array (x, y, 1) menjadi (x, y) dengan metode Flatten()."
      ]
    },
    {
      "cell_type": "code",
      "metadata": {
        "id": "MD7WQmw1dGa-"
      },
      "source": [
        "x_train = convert(x_train)\n",
        "x_test = convert(x_test)\n",
        "x_val = convert(x_val)"
      ],
      "execution_count": null,
      "outputs": []
    },
    {
      "cell_type": "code",
      "metadata": {
        "colab": {
          "base_uri": "https://localhost:8080/"
        },
        "id": "lF7PNqVTgu0N",
        "outputId": "3de25111-3943-4e9c-887b-6ee4b58e6442"
      },
      "source": [
        "x_train.shape"
      ],
      "execution_count": null,
      "outputs": [
        {
          "output_type": "execute_result",
          "data": {
            "text/plain": [
              "(76, 10001)"
            ]
          },
          "metadata": {
            "tags": []
          },
          "execution_count": 20
        }
      ]
    },
    {
      "cell_type": "markdown",
      "metadata": {
        "id": "sTmhNXRQqaxL"
      },
      "source": [
        "> Mengurangi dimensi pada data 'features-x' menggunakan teknik PCA dengan jumlah komponen (n_components) = 65.\n",
        "\n",
        "> Dengan n_components = 65, total variance ratio yang didapatkan ialah 91% (yang mana hal ini baik, karena lebih dari 80%).\n",
        "\n",
        "Variance ratio pada PCA ini sendiri didapatkan dari hasil kalkulasi eigen value dan eigen vector ketika menjalankan PCA. Variance ratio berfungsi adalah persentase varians dari masing-masing komponen yang telah dipilih (sebanyak n). "
      ]
    },
    {
      "cell_type": "code",
      "metadata": {
        "id": "DH3plq9lFVMb",
        "colab": {
          "base_uri": "https://localhost:8080/"
        },
        "outputId": "062a84f9-bac7-4b81-ca97-fcf2d714ce46"
      },
      "source": [
        "n = 70\n",
        "pca, pca_train, pca_test, pca_val, var = getPCA(n, x_train, x_test, x_val)\n",
        "print(f\"Variance Ratio: {var}\")"
      ],
      "execution_count": null,
      "outputs": [
        {
          "output_type": "stream",
          "text": [
            "Variance Ratio: 0.9531686902046204\n"
          ],
          "name": "stdout"
        }
      ]
    },
    {
      "cell_type": "code",
      "metadata": {
        "colab": {
          "base_uri": "https://localhost:8080/"
        },
        "id": "X-x_tqQbrcKF",
        "outputId": "d9c5dc41-a6d5-4e49-e868-db125bcaa319"
      },
      "source": [
        "print(pca_train.shape)\n",
        "pca_train[0]"
      ],
      "execution_count": null,
      "outputs": [
        {
          "output_type": "stream",
          "text": [
            "(76, 70)\n"
          ],
          "name": "stdout"
        },
        {
          "output_type": "execute_result",
          "data": {
            "text/plain": [
              "array([-0.17684959, -2.3499177 , -3.3952172 ,  3.135495  , -4.4990864 ,\n",
              "        0.16914918,  4.3781576 ,  1.4457352 ,  1.1532981 ,  7.893315  ,\n",
              "       -6.7073536 ,  5.687901  ,  7.5460877 ,  0.46803385,  3.215711  ,\n",
              "       -4.7983923 ,  3.2556615 ,  5.950252  ,  2.0683935 , -1.6274409 ,\n",
              "        2.4789872 ,  3.1251383 , -5.417343  ,  1.2410707 ,  0.5052772 ,\n",
              "        2.3445945 , -1.9790597 ,  1.7522115 , -1.7555857 ,  5.7222514 ,\n",
              "        0.49033427, -3.7870789 , -5.6843443 ,  0.277319  , -1.2218746 ,\n",
              "        0.2549911 , -2.069643  , -1.7008145 ,  1.3777957 ,  3.8357327 ,\n",
              "        2.3638997 ,  8.706407  ,  7.798467  , -5.8444247 ,  5.69608   ,\n",
              "       -0.6651663 ,  0.4473747 ,  4.261301  , -0.5242943 , -0.11969687,\n",
              "       -2.1332085 , -0.9720872 ,  1.0105999 , -4.115673  ,  4.3425403 ,\n",
              "       -1.8257937 ,  5.7595453 , -3.6670363 , -2.0256693 ,  1.7777905 ,\n",
              "        3.8444755 ,  0.64735377, -2.4539614 ,  1.7811759 ,  1.9478419 ,\n",
              "        0.05434764,  3.3228812 ,  2.0253053 , -0.88242316, -2.1027343 ],\n",
              "      dtype=float32)"
            ]
          },
          "metadata": {
            "tags": []
          },
          "execution_count": 22
        }
      ]
    },
    {
      "cell_type": "code",
      "metadata": {
        "id": "w_DDd2iT2p4h"
      },
      "source": [
        "temp1 = pca.inverse_transform(pca_train)\n",
        "temp2 = pca.inverse_transform(pca_test)\n",
        "temp3 = pca.inverse_transform(pca_val)"
      ],
      "execution_count": null,
      "outputs": []
    },
    {
      "cell_type": "markdown",
      "metadata": {
        "id": "r0juUr8sJ_ts"
      },
      "source": [
        "> Melakukan reshape pada data 'features-x' dengan mengembalikan shape/struktur awal dari data, dan data dapat diproses dalam model CNN."
      ]
    },
    {
      "cell_type": "code",
      "metadata": {
        "id": "3QR9Ixuh2uIw"
      },
      "source": [
        "pca_train = np.reshape(temp1, (pca_train.shape[0], 10001, 1))\n",
        "pca_test = np.reshape(temp2, (pca_test.shape[0], 10001, 1))\n",
        "pca_val = np.reshape(temp3, (pca_val.shape[0], 10001, 1))"
      ],
      "execution_count": null,
      "outputs": []
    },
    {
      "cell_type": "markdown",
      "metadata": {
        "id": "HVWMaOfFKNTx"
      },
      "source": [
        "> Memanggil function CNN1D() untuk membangun model CNN untuk dataset 1D-matrix.\n",
        "\n",
        "> Melakukan training pada model CNN dengan function 'model.fit' dengan menggunakan training set, yang mana tiap epoch akan melakukan 76/2 iterasi (dikarenakan jumlah dataset = 76 dan batch_size = 2).\n",
        "\n",
        "> Hasil training model akan divalidasi menggunakan validating set."
      ]
    },
    {
      "cell_type": "code",
      "metadata": {
        "colab": {
          "base_uri": "https://localhost:8080/"
        },
        "id": "0gfot9MJzAdU",
        "outputId": "64170f18-a35c-4090-f400-61b626e23cfb"
      },
      "source": [
        "dna_model = CNN1D()\n",
        "pca_history = dna_model.fit(pca_train, y_train, epochs=20, batch_size=2, validation_data=(pca_val, y_val), verbose=1)"
      ],
      "execution_count": null,
      "outputs": [
        {
          "output_type": "stream",
          "text": [
            "Epoch 1/20\n",
            "38/38 [==============================] - 1s 14ms/step - loss: 0.8116 - accuracy: 0.4800 - val_loss: 0.8125 - val_accuracy: 0.3333\n",
            "Epoch 2/20\n",
            "38/38 [==============================] - 0s 5ms/step - loss: 0.8537 - accuracy: 0.4664 - val_loss: 0.7202 - val_accuracy: 0.3333\n",
            "Epoch 3/20\n",
            "38/38 [==============================] - 0s 5ms/step - loss: 0.6798 - accuracy: 0.5826 - val_loss: 0.6927 - val_accuracy: 0.6667\n",
            "Epoch 4/20\n",
            "38/38 [==============================] - 0s 5ms/step - loss: 0.6842 - accuracy: 0.6199 - val_loss: 0.7338 - val_accuracy: 0.3333\n",
            "Epoch 5/20\n",
            "38/38 [==============================] - 0s 5ms/step - loss: 0.7307 - accuracy: 0.4759 - val_loss: 0.7173 - val_accuracy: 0.3333\n",
            "Epoch 6/20\n",
            "38/38 [==============================] - 0s 4ms/step - loss: 0.7059 - accuracy: 0.5036 - val_loss: 0.7039 - val_accuracy: 0.3333\n",
            "Epoch 7/20\n",
            "38/38 [==============================] - 0s 4ms/step - loss: 0.6813 - accuracy: 0.5690 - val_loss: 0.7076 - val_accuracy: 0.3333\n",
            "Epoch 8/20\n",
            "38/38 [==============================] - 0s 5ms/step - loss: 0.6927 - accuracy: 0.5361 - val_loss: 0.7150 - val_accuracy: 0.3333\n",
            "Epoch 9/20\n",
            "38/38 [==============================] - 0s 4ms/step - loss: 0.6982 - accuracy: 0.4961 - val_loss: 0.7050 - val_accuracy: 0.3333\n",
            "Epoch 10/20\n",
            "38/38 [==============================] - 0s 4ms/step - loss: 0.6891 - accuracy: 0.5377 - val_loss: 0.7050 - val_accuracy: 0.3333\n",
            "Epoch 11/20\n",
            "38/38 [==============================] - 0s 4ms/step - loss: 0.7046 - accuracy: 0.4484 - val_loss: 0.6917 - val_accuracy: 0.6667\n",
            "Epoch 12/20\n",
            "38/38 [==============================] - 0s 4ms/step - loss: 0.7011 - accuracy: 0.4856 - val_loss: 0.7079 - val_accuracy: 0.3333\n",
            "Epoch 13/20\n",
            "38/38 [==============================] - 0s 4ms/step - loss: 0.7087 - accuracy: 0.4114 - val_loss: 0.7093 - val_accuracy: 0.3333\n",
            "Epoch 14/20\n",
            "38/38 [==============================] - 0s 4ms/step - loss: 0.6974 - accuracy: 0.4744 - val_loss: 0.7081 - val_accuracy: 0.3333\n",
            "Epoch 15/20\n",
            "38/38 [==============================] - 0s 4ms/step - loss: 0.6947 - accuracy: 0.4987 - val_loss: 0.7012 - val_accuracy: 0.3333\n",
            "Epoch 16/20\n",
            "38/38 [==============================] - 0s 4ms/step - loss: 0.7041 - accuracy: 0.4572 - val_loss: 0.7074 - val_accuracy: 0.3333\n",
            "Epoch 17/20\n",
            "38/38 [==============================] - 0s 4ms/step - loss: 0.7002 - accuracy: 0.4051 - val_loss: 0.6984 - val_accuracy: 0.3333\n",
            "Epoch 18/20\n",
            "38/38 [==============================] - 0s 4ms/step - loss: 0.6995 - accuracy: 0.5201 - val_loss: 0.7053 - val_accuracy: 0.3333\n",
            "Epoch 19/20\n",
            "38/38 [==============================] - 0s 4ms/step - loss: 0.6917 - accuracy: 0.5718 - val_loss: 0.7067 - val_accuracy: 0.3333\n",
            "Epoch 20/20\n",
            "38/38 [==============================] - 0s 4ms/step - loss: 0.6912 - accuracy: 0.4269 - val_loss: 0.7033 - val_accuracy: 0.3333\n"
          ],
          "name": "stdout"
        }
      ]
    },
    {
      "cell_type": "markdown",
      "metadata": {
        "id": "Fs3QTmx_KfI3"
      },
      "source": [
        "> Melakukan evaluasi/testing pada model yang sudah dilakukan training sebelumnya dengan menggunakan testing dataset dengan batch_size = 1 dikarenakan hanya terdapat 7 data pada testing dataset."
      ]
    },
    {
      "cell_type": "code",
      "metadata": {
        "colab": {
          "base_uri": "https://localhost:8080/"
        },
        "id": "w-tOEbJ4zS-p",
        "outputId": "a71d4f07-eb61-4fbd-8de3-1b6b13c10820"
      },
      "source": [
        "dna_model.evaluate(pca_test, y_test, batch_size=1)"
      ],
      "execution_count": null,
      "outputs": [
        {
          "output_type": "stream",
          "text": [
            "7/7 [==============================] - 0s 3ms/step - loss: 0.6894 - accuracy: 0.5714\n"
          ],
          "name": "stdout"
        },
        {
          "output_type": "execute_result",
          "data": {
            "text/plain": [
              "[0.6894017457962036, 0.5714285969734192]"
            ]
          },
          "metadata": {
            "tags": []
          },
          "execution_count": 26
        }
      ]
    },
    {
      "cell_type": "markdown",
      "metadata": {
        "id": "e7oLDkQlMWuu"
      },
      "source": [
        "> Melakukan evaluation model plotting pada hasil training dan validation yang dilakukan sebelumnya pada 'model.fit'."
      ]
    },
    {
      "cell_type": "code",
      "metadata": {
        "colab": {
          "base_uri": "https://localhost:8080/",
          "height": 591
        },
        "id": "juCPrUCgzVki",
        "outputId": "9ef52b4e-5d47-435d-df78-4e881e756208"
      },
      "source": [
        "plot_eval(pca_history)"
      ],
      "execution_count": null,
      "outputs": [
        {
          "output_type": "display_data",
          "data": {
            "image/png": "[encoded data removed]",
            "text/plain": [
              "<Figure size 432x288 with 1 Axes>"
            ]
          },
          "metadata": {
            "tags": [],
            "needs_background": "light"
          }
        },
        {
          "output_type": "stream",
          "text": [
            "\n"
          ],
          "name": "stdout"
        },
        {
          "output_type": "display_data",
          "data": {
            "image/png": "[encoded data removed]",
            "text/plain": [
              "<Figure size 432x288 with 1 Axes>"
            ]
          },
          "metadata": {
            "tags": [],
            "needs_background": "light"
          }
        }
      ]
    },
    {
      "cell_type": "markdown",
      "metadata": {
        "id": "mQv4CfWCOzRY"
      },
      "source": [
        "> Sama seperti model sebelumnya (tanpa PCA), hasil loss cenderung menurun namun akurasi menunjukkan grafik yang tidak stabil.Dengan demikian, model yang dilatih juga tidak terlalu bekerja dengan baik. Saya berasumsi hal ini terjadi karena kurangnya jumlah data latih (training dataset) sehingga akurasi yang dihasilkan cukup stagnan (kemungkinan terjadi *overfitting* pada model ini)."
      ]
    },
    {
      "cell_type": "markdown",
      "metadata": {
        "id": "gcLg2FQ2iT65"
      },
      "source": [
        "## **FASHION MNIST DATASET**"
      ]
    },
    {
      "cell_type": "markdown",
      "metadata": {
        "id": "YRuDxlqdTiw_"
      },
      "source": [
        "#### 1) IMPORT AND PRE-PROCESSING DATASET"
      ]
    },
    {
      "cell_type": "markdown",
      "metadata": {
        "id": "jL0VG3hcDMgC"
      },
      "source": [
        "> Import dataset dari *keras library*"
      ]
    },
    {
      "cell_type": "code",
      "metadata": {
        "id": "uyKskOoBOzmo",
        "colab": {
          "base_uri": "https://localhost:8080/"
        },
        "outputId": "48bdf287-c093-4b7c-9acd-d9e10c57d1b2"
      },
      "source": [
        "(x_train, y_train), (x_test, y_test) = fashion_mnist.load_data()"
      ],
      "execution_count": null,
      "outputs": [
        {
          "output_type": "stream",
          "text": [
            "Downloading data from https://storage.googleapis.com/tensorflow/tf-keras-datasets/train-labels-idx1-ubyte.gz\n",
            "32768/29515 [=================================] - 0s 0us/step\n",
            "Downloading data from https://storage.googleapis.com/tensorflow/tf-keras-datasets/train-images-idx3-ubyte.gz\n",
            "26427392/26421880 [==============================] - 1s 0us/step\n",
            "Downloading data from https://storage.googleapis.com/tensorflow/tf-keras-datasets/t10k-labels-idx1-ubyte.gz\n",
            "8192/5148 [===============================================] - 0s 0us/step\n",
            "Downloading data from https://storage.googleapis.com/tensorflow/tf-keras-datasets/t10k-images-idx3-ubyte.gz\n",
            "4423680/4422102 [==============================] - 0s 0us/step\n"
          ],
          "name": "stdout"
        }
      ]
    },
    {
      "cell_type": "markdown",
      "metadata": {
        "id": "1Ve-XZcIDbPK"
      },
      "source": [
        "> Melakukan pre-processing pada dataset dengan melakukan reshape pada data 'features-x' (agar data dapat diproses di dalam model CNN) dan melakukan one-hot coding pada data 'label-y' dengan  fungsi to_categorical() dari *keras library*."
      ]
    },
    {
      "cell_type": "code",
      "metadata": {
        "id": "P_eHzWCRg27F"
      },
      "source": [
        "x_train = np.reshape(x_train, (x_train.shape[0], 28, 28, 1))\n",
        "x_test = np.reshape(x_test, (x_test.shape[0], 28, 28, 1))\n",
        "y_train = to_categorical(y_train)\n",
        "y_test = to_categorical(y_test)"
      ],
      "execution_count": null,
      "outputs": []
    },
    {
      "cell_type": "markdown",
      "metadata": {
        "id": "V766DbFNEGW5"
      },
      "source": [
        "> Membagi data pada test set untuk keperluan validasi dengan ukuran ratio (3:2)."
      ]
    },
    {
      "cell_type": "code",
      "metadata": {
        "id": "J3jGNGdtXprD"
      },
      "source": [
        "x_test, x_val, y_test, y_val = train_test_split(x_test, y_test, train_size=0.6, random_state=1)"
      ],
      "execution_count": null,
      "outputs": []
    },
    {
      "cell_type": "code",
      "metadata": {
        "colab": {
          "base_uri": "https://localhost:8080/"
        },
        "id": "MQssNBTOEC8k",
        "outputId": "a650c4d3-be61-4a55-e440-039172299c87"
      },
      "source": [
        "print(f\"x_train shape\\t: {x_train.shape}\")\n",
        "print(f\"x_test shape\\t: {x_test.shape}\")\n",
        "print(f\"x_val shape\\t: {x_val.shape}\")"
      ],
      "execution_count": null,
      "outputs": [
        {
          "output_type": "stream",
          "text": [
            "x_train shape\t: (60000, 28, 28, 1)\n",
            "x_test shape\t: (6000, 28, 28, 1)\n",
            "x_val shape\t: (4000, 28, 28, 1)\n"
          ],
          "name": "stdout"
        }
      ]
    },
    {
      "cell_type": "markdown",
      "metadata": {
        "id": "sCeO5zVTEI6g"
      },
      "source": [
        "> Melakukan normalisasi pada data 'features-x' yang sebelumnya berupa angka pixel di rentang 0-255 menjadi angka di rentang 0-1 dengan menggunakan metode scaler."
      ]
    },
    {
      "cell_type": "code",
      "metadata": {
        "id": "XPKH5EhjmuHb"
      },
      "source": [
        "x_train, x_test, x_val = pixelscale(x_train, x_test, x_val)"
      ],
      "execution_count": null,
      "outputs": []
    },
    {
      "cell_type": "markdown",
      "metadata": {
        "id": "eu43pgfJTlg8"
      },
      "source": [
        "#### 2) CNN IMPLEMENTATION (without PCA)"
      ]
    },
    {
      "cell_type": "markdown",
      "metadata": {
        "id": "zvtimHW_Efuh"
      },
      "source": [
        "> Memanggil function CNN2D() untuk membangun model CNN untuk dataset 2D-matrix.\n",
        "\n",
        "> Melakukan training pada model CNN dengan function 'model.fit' dengan menggunakan training set, yang mana tiap epoch akan melakukan 60000/250 iterasi (dikarenakan jumlah dataset = 60.000 dan batch_size = 250).\n",
        "\n",
        "> Hasil training model akan divalidasi menggunakan validating set."
      ]
    },
    {
      "cell_type": "code",
      "metadata": {
        "colab": {
          "base_uri": "https://localhost:8080/"
        },
        "id": "Ak4jmXZhLeqQ",
        "outputId": "7d9219c6-527a-460b-ed72-e377d805a8dd"
      },
      "source": [
        "# CONSTRUCT AND TRAIN THE MODEL\n",
        "model = CNN2D()\n",
        "his = model.fit(x_train, y_train, epochs=20, batch_size=250, validation_data=(x_val, y_val), verbose=1)"
      ],
      "execution_count": null,
      "outputs": [
        {
          "output_type": "stream",
          "text": [
            "Epoch 1/20\n",
            "240/240 [==============================] - 3s 8ms/step - loss: 0.9042 - accuracy: 0.6954 - val_loss: 0.4376 - val_accuracy: 0.8435\n",
            "Epoch 2/20\n",
            "240/240 [==============================] - 2s 6ms/step - loss: 0.3879 - accuracy: 0.8618 - val_loss: 0.3742 - val_accuracy: 0.8658\n",
            "Epoch 3/20\n",
            "240/240 [==============================] - 2s 6ms/step - loss: 0.3285 - accuracy: 0.8816 - val_loss: 0.3485 - val_accuracy: 0.8763\n",
            "Epoch 4/20\n",
            "240/240 [==============================] - 2s 6ms/step - loss: 0.3050 - accuracy: 0.8903 - val_loss: 0.3458 - val_accuracy: 0.8745\n",
            "Epoch 5/20\n",
            "240/240 [==============================] - 2s 6ms/step - loss: 0.2842 - accuracy: 0.8977 - val_loss: 0.3139 - val_accuracy: 0.8888\n",
            "Epoch 6/20\n",
            "240/240 [==============================] - 2s 6ms/step - loss: 0.2692 - accuracy: 0.9019 - val_loss: 0.3144 - val_accuracy: 0.8903\n",
            "Epoch 7/20\n",
            "240/240 [==============================] - 2s 7ms/step - loss: 0.2592 - accuracy: 0.9059 - val_loss: 0.3033 - val_accuracy: 0.8910\n",
            "Epoch 8/20\n",
            "240/240 [==============================] - 2s 7ms/step - loss: 0.2456 - accuracy: 0.9101 - val_loss: 0.3018 - val_accuracy: 0.8888\n",
            "Epoch 9/20\n",
            "240/240 [==============================] - 2s 7ms/step - loss: 0.2379 - accuracy: 0.9130 - val_loss: 0.2895 - val_accuracy: 0.8982\n",
            "Epoch 10/20\n",
            "240/240 [==============================] - 2s 6ms/step - loss: 0.2228 - accuracy: 0.9201 - val_loss: 0.2972 - val_accuracy: 0.8923\n",
            "Epoch 11/20\n",
            "240/240 [==============================] - 2s 6ms/step - loss: 0.2211 - accuracy: 0.9214 - val_loss: 0.2870 - val_accuracy: 0.8972\n",
            "Epoch 12/20\n",
            "240/240 [==============================] - 2s 6ms/step - loss: 0.2103 - accuracy: 0.9246 - val_loss: 0.2760 - val_accuracy: 0.9025\n",
            "Epoch 13/20\n",
            "240/240 [==============================] - 2s 7ms/step - loss: 0.2035 - accuracy: 0.9242 - val_loss: 0.2809 - val_accuracy: 0.8995\n",
            "Epoch 14/20\n",
            "240/240 [==============================] - 2s 6ms/step - loss: 0.1958 - accuracy: 0.9289 - val_loss: 0.2867 - val_accuracy: 0.8988\n",
            "Epoch 15/20\n",
            "240/240 [==============================] - 2s 7ms/step - loss: 0.1919 - accuracy: 0.9292 - val_loss: 0.2895 - val_accuracy: 0.9010\n",
            "Epoch 16/20\n",
            "240/240 [==============================] - 2s 6ms/step - loss: 0.1842 - accuracy: 0.9327 - val_loss: 0.2853 - val_accuracy: 0.8975\n",
            "Epoch 17/20\n",
            "240/240 [==============================] - 2s 6ms/step - loss: 0.1764 - accuracy: 0.9359 - val_loss: 0.2804 - val_accuracy: 0.9025\n",
            "Epoch 18/20\n",
            "240/240 [==============================] - 2s 7ms/step - loss: 0.1740 - accuracy: 0.9384 - val_loss: 0.2829 - val_accuracy: 0.8997\n",
            "Epoch 19/20\n",
            "240/240 [==============================] - 2s 6ms/step - loss: 0.1731 - accuracy: 0.9374 - val_loss: 0.2766 - val_accuracy: 0.9015\n",
            "Epoch 20/20\n",
            "240/240 [==============================] - 2s 6ms/step - loss: 0.1695 - accuracy: 0.9388 - val_loss: 0.2667 - val_accuracy: 0.9055\n"
          ],
          "name": "stdout"
        }
      ]
    },
    {
      "cell_type": "markdown",
      "metadata": {
        "id": "KxjLClEFExwR"
      },
      "source": [
        "> Melakukan evaluasi/testing pada model yang sudah dilakukan training sebelumnya dengan menggunakan testing dataset dengan batch_size yang sama yaitu sebesar 250."
      ]
    },
    {
      "cell_type": "code",
      "metadata": {
        "colab": {
          "base_uri": "https://localhost:8080/"
        },
        "id": "F-sgvcy7a4lf",
        "outputId": "44522efd-a69d-4619-ea1d-801727c26d15"
      },
      "source": [
        "# EVALUATE THE MODEL USING TEST DATASET\n",
        "model.evaluate(x_test, y_test, batch_size=250)"
      ],
      "execution_count": null,
      "outputs": [
        {
          "output_type": "stream",
          "text": [
            "24/24 [==============================] - 0s 4ms/step - loss: 0.2606 - accuracy: 0.9110\n"
          ],
          "name": "stdout"
        },
        {
          "output_type": "execute_result",
          "data": {
            "text/plain": [
              "[0.26063477993011475, 0.9110000133514404]"
            ]
          },
          "metadata": {
            "tags": []
          },
          "execution_count": 34
        }
      ]
    },
    {
      "cell_type": "markdown",
      "metadata": {
        "id": "KVuNi4vYFkHU"
      },
      "source": [
        "> Melakukan evaluation model plotting pada hasil training dan validation yang dilakukan sebelumnya pada 'model.fit'."
      ]
    },
    {
      "cell_type": "code",
      "metadata": {
        "colab": {
          "base_uri": "https://localhost:8080/",
          "height": 591
        },
        "id": "0CwtLJEI15HT",
        "outputId": "a84621ab-c88b-4d57-9149-e9fb0fd64690"
      },
      "source": [
        "plot_eval(his)"
      ],
      "execution_count": null,
      "outputs": [
        {
          "output_type": "display_data",
          "data": {
            "image/png": "[encoded data removed]",
            "text/plain": [
              "<Figure size 432x288 with 1 Axes>"
            ]
          },
          "metadata": {
            "tags": [],
            "needs_background": "light"
          }
        },
        {
          "output_type": "stream",
          "text": [
            "\n"
          ],
          "name": "stdout"
        },
        {
          "output_type": "display_data",
          "data": {
            "image/png": "[encoded data removed]",
            "text/plain": [
              "<Figure size 432x288 with 1 Axes>"
            ]
          },
          "metadata": {
            "tags": [],
            "needs_background": "light"
          }
        }
      ]
    },
    {
      "cell_type": "markdown",
      "metadata": {
        "id": "zxHjaY_2QZZi"
      },
      "source": [
        "> Melalui plotting ini, dapat terlihat bahwa model yang dilatih bekerja dengan baik. Hal ini dapat dilihat dari nilai akurasi terus mengalami kenaikan dan nilai loss terus mengalami penurunan seiring dengan naiknya jumlah epoch baik pada training maupun testing dataset."
      ]
    },
    {
      "cell_type": "markdown",
      "metadata": {
        "id": "QdMk3P6LTuIY"
      },
      "source": [
        "#### 3) CNN IMPLEMENTATION (with PCA)"
      ]
    },
    {
      "cell_type": "markdown",
      "metadata": {
        "id": "ntpdvDG1F5Xk"
      },
      "source": [
        "> Berikut adalah tampilan dari salah satu gambar pada dataset dalam bentuk pixel."
      ]
    },
    {
      "cell_type": "code",
      "metadata": {
        "colab": {
          "base_uri": "https://localhost:8080/",
          "height": 300
        },
        "id": "67LTSzQEkQ11",
        "outputId": "6621e2b9-d125-4085-b67a-423cd02cf407"
      },
      "source": [
        "img = x_train[21]\n",
        "img = img.reshape(img.shape[0], img.shape[1])\n",
        "print(img.shape)\n",
        "plt.imshow(img)"
      ],
      "execution_count": null,
      "outputs": [
        {
          "output_type": "stream",
          "text": [
            "(28, 28)\n"
          ],
          "name": "stdout"
        },
        {
          "output_type": "execute_result",
          "data": {
            "text/plain": [
              "<matplotlib.image.AxesImage at 0x7fdbcd645690>"
            ]
          },
          "metadata": {
            "tags": []
          },
          "execution_count": 36
        },
        {
          "output_type": "display_data",
          "data": {
            "image/png": "[encoded data removed]",
            "text/plain": [
              "<Figure size 432x288 with 1 Axes>"
            ]
          },
          "metadata": {
            "tags": [],
            "needs_background": "light"
          }
        }
      ]
    },
    {
      "cell_type": "markdown",
      "metadata": {
        "id": "AQlGohEuGU0J"
      },
      "source": [
        "> Melakukan metode Flatten() pada data 'features-x' agar membentuk 1 fully connected layer yang dapat diproses oleh fungsi PCA."
      ]
    },
    {
      "cell_type": "code",
      "metadata": {
        "id": "qom5iUEXafbE"
      },
      "source": [
        "x_train = convert(x_train)\n",
        "x_test = convert(x_test)\n",
        "x_val = convert(x_val)"
      ],
      "execution_count": null,
      "outputs": []
    },
    {
      "cell_type": "code",
      "metadata": {
        "colab": {
          "base_uri": "https://localhost:8080/"
        },
        "id": "Doye1hPlIdA2",
        "outputId": "95357de0-f019-4d70-9760-90c4b32482ef"
      },
      "source": [
        "x_train.shape"
      ],
      "execution_count": null,
      "outputs": [
        {
          "output_type": "execute_result",
          "data": {
            "text/plain": [
              "(60000, 784)"
            ]
          },
          "metadata": {
            "tags": []
          },
          "execution_count": 38
        }
      ]
    },
    {
      "cell_type": "markdown",
      "metadata": {
        "id": "6xzzeuOJGgyf"
      },
      "source": [
        "> Dari 784-dimensional space (dari 28 x 28), gambar akan direduksi dimensinya menjadi 150-dimensional space."
      ]
    },
    {
      "cell_type": "markdown",
      "metadata": {
        "id": "7THYQI0SJesS"
      },
      "source": [
        "Dengan n_components = 250, total variance ratio yang didapatkan ialah 96.5% (yang mana hal ini baik, karena lebih dari 80% sehingga mencegah terjadinya overfitting)."
      ]
    },
    {
      "cell_type": "code",
      "metadata": {
        "colab": {
          "base_uri": "https://localhost:8080/"
        },
        "id": "QigiIRJfU24I",
        "outputId": "da437c6f-bff4-44a7-c77a-35d69e22d306"
      },
      "source": [
        "n = 250\n",
        "pca, pca_train, pca_test, pca_val, var = getPCA(n, x_train, x_test, x_val)\n",
        "print(f\"Variance Ratio: {var}\")"
      ],
      "execution_count": null,
      "outputs": [
        {
          "output_type": "stream",
          "text": [
            "Variance Ratio: 0.9647011756896973\n"
          ],
          "name": "stdout"
        }
      ]
    },
    {
      "cell_type": "code",
      "metadata": {
        "id": "DoYRcYFdX-gZ"
      },
      "source": [
        "temp1 = pca.inverse_transform(pca_train)\n",
        "temp2 = pca.inverse_transform(pca_test)\n",
        "temp3 = pca.inverse_transform(pca_val)"
      ],
      "execution_count": null,
      "outputs": []
    },
    {
      "cell_type": "markdown",
      "metadata": {
        "id": "AqJaxBY6K9Iv"
      },
      "source": [
        "> Melakukan reshape pada data 'features-x' dengan mengembalikan shape data yang semula, dan data dapat diproses dalam model CNN."
      ]
    },
    {
      "cell_type": "code",
      "metadata": {
        "id": "GpEUZXMxUTYx"
      },
      "source": [
        "pca_train = np.reshape(temp1, (pca_train.shape[0], 28, 28, 1))\n",
        "pca_test = np.reshape(temp2, (pca_test.shape[0], 28, 28, 1))\n",
        "pca_val = np.reshape(temp3, (pca_val.shape[0], 28, 28, 1))"
      ],
      "execution_count": null,
      "outputs": []
    },
    {
      "cell_type": "markdown",
      "metadata": {
        "id": "RKP7uhBPJAH3"
      },
      "source": [
        "> Berikut adalah hasil gambar yang telah direduksi dimensinya dengan menggunakan PCA. Dapat dilihat bahwa dengan n = 250, pola gambar masih dapat terlihat dengan baik."
      ]
    },
    {
      "cell_type": "code",
      "metadata": {
        "colab": {
          "base_uri": "https://localhost:8080/",
          "height": 300
        },
        "id": "rd2L4CiWieSa",
        "outputId": "9ee4b857-6e7f-4e82-b28a-f759da5b431e"
      },
      "source": [
        "img = pca_train[21]\n",
        "img = img.reshape(img.shape[0], img.shape[1])\n",
        "print(img.shape)\n",
        "plt.imshow(img)"
      ],
      "execution_count": null,
      "outputs": [
        {
          "output_type": "stream",
          "text": [
            "(28, 28)\n"
          ],
          "name": "stdout"
        },
        {
          "output_type": "execute_result",
          "data": {
            "text/plain": [
              "<matplotlib.image.AxesImage at 0x7fdb705b5b10>"
            ]
          },
          "metadata": {
            "tags": []
          },
          "execution_count": 42
        },
        {
          "output_type": "display_data",
          "data": {
            "image/png": "[encoded data removed]",
            "text/plain": [
              "<Figure size 432x288 with 1 Axes>"
            ]
          },
          "metadata": {
            "tags": [],
            "needs_background": "light"
          }
        }
      ]
    },
    {
      "cell_type": "markdown",
      "metadata": {
        "id": "h7YGBmE3KzUI"
      },
      "source": [
        "> Memanggil function CNN2D() untuk membangun model CNN untuk dataset 2D-matrix.\n",
        "\n",
        "> Melakukan training pada model CNN dengan function 'model.fit' dengan menggunakan training set, yang mana tiap epoch akan melakukan 60000/250 iterasi (dikarenakan jumlah dataset = 60.000 dan batch_size = 250).\n",
        "\n",
        "> Hasil training model akan divalidasi menggunakan validating set."
      ]
    },
    {
      "cell_type": "code",
      "metadata": {
        "colab": {
          "base_uri": "https://localhost:8080/"
        },
        "id": "hPQTCl_JnU1X",
        "outputId": "dcf8a4d8-b4ad-47eb-87d0-87c8a79611fe"
      },
      "source": [
        "pca_model = CNN2D()\n",
        "pca_his = pca_model.fit(pca_train, y_train, epochs=20, batch_size=250, validation_data=(pca_val, y_val), verbose=1)"
      ],
      "execution_count": null,
      "outputs": [
        {
          "output_type": "stream",
          "text": [
            "Epoch 1/20\n",
            "240/240 [==============================] - 3s 8ms/step - loss: 0.9033 - accuracy: 0.6875 - val_loss: 0.4508 - val_accuracy: 0.8320\n",
            "Epoch 2/20\n",
            "240/240 [==============================] - 2s 6ms/step - loss: 0.4033 - accuracy: 0.8543 - val_loss: 0.4046 - val_accuracy: 0.8570\n",
            "Epoch 3/20\n",
            "240/240 [==============================] - 2s 7ms/step - loss: 0.3511 - accuracy: 0.8739 - val_loss: 0.3620 - val_accuracy: 0.8752\n",
            "Epoch 4/20\n",
            "240/240 [==============================] - 2s 6ms/step - loss: 0.3215 - accuracy: 0.8853 - val_loss: 0.3563 - val_accuracy: 0.8755\n",
            "Epoch 5/20\n",
            "240/240 [==============================] - 2s 6ms/step - loss: 0.3077 - accuracy: 0.8885 - val_loss: 0.3511 - val_accuracy: 0.8740\n",
            "Epoch 6/20\n",
            "240/240 [==============================] - 2s 6ms/step - loss: 0.2868 - accuracy: 0.8962 - val_loss: 0.3265 - val_accuracy: 0.8832\n",
            "Epoch 7/20\n",
            "240/240 [==============================] - 2s 6ms/step - loss: 0.2763 - accuracy: 0.9001 - val_loss: 0.3175 - val_accuracy: 0.8842\n",
            "Epoch 8/20\n",
            "240/240 [==============================] - 1s 6ms/step - loss: 0.2595 - accuracy: 0.9052 - val_loss: 0.3136 - val_accuracy: 0.8857\n",
            "Epoch 9/20\n",
            "240/240 [==============================] - 2s 6ms/step - loss: 0.2518 - accuracy: 0.9103 - val_loss: 0.3059 - val_accuracy: 0.8888\n",
            "Epoch 10/20\n",
            "240/240 [==============================] - 2s 6ms/step - loss: 0.2445 - accuracy: 0.9098 - val_loss: 0.2967 - val_accuracy: 0.8953\n",
            "Epoch 11/20\n",
            "240/240 [==============================] - 2s 6ms/step - loss: 0.2330 - accuracy: 0.9155 - val_loss: 0.2957 - val_accuracy: 0.8920\n",
            "Epoch 12/20\n",
            "240/240 [==============================] - 2s 6ms/step - loss: 0.2232 - accuracy: 0.9183 - val_loss: 0.3046 - val_accuracy: 0.8913\n",
            "Epoch 13/20\n",
            "240/240 [==============================] - 2s 6ms/step - loss: 0.2196 - accuracy: 0.9192 - val_loss: 0.3021 - val_accuracy: 0.8942\n",
            "Epoch 14/20\n",
            "240/240 [==============================] - 2s 6ms/step - loss: 0.2141 - accuracy: 0.9239 - val_loss: 0.2890 - val_accuracy: 0.8955\n",
            "Epoch 15/20\n",
            "240/240 [==============================] - 2s 6ms/step - loss: 0.2109 - accuracy: 0.9233 - val_loss: 0.3048 - val_accuracy: 0.8903\n",
            "Epoch 16/20\n",
            "240/240 [==============================] - 2s 6ms/step - loss: 0.2056 - accuracy: 0.9255 - val_loss: 0.2920 - val_accuracy: 0.8967\n",
            "Epoch 17/20\n",
            "240/240 [==============================] - 2s 6ms/step - loss: 0.1919 - accuracy: 0.9312 - val_loss: 0.2865 - val_accuracy: 0.8992\n",
            "Epoch 18/20\n",
            "240/240 [==============================] - 2s 6ms/step - loss: 0.1928 - accuracy: 0.9312 - val_loss: 0.2882 - val_accuracy: 0.8988\n",
            "Epoch 19/20\n",
            "240/240 [==============================] - 2s 6ms/step - loss: 0.1828 - accuracy: 0.9341 - val_loss: 0.2925 - val_accuracy: 0.8992\n",
            "Epoch 20/20\n",
            "240/240 [==============================] - 2s 6ms/step - loss: 0.1768 - accuracy: 0.9350 - val_loss: 0.2876 - val_accuracy: 0.8988\n"
          ],
          "name": "stdout"
        }
      ]
    },
    {
      "cell_type": "markdown",
      "metadata": {
        "id": "k-DOsOPRKmAA"
      },
      "source": [
        "> Melakukan evaluasi/testing pada model yang sudah dilakukan training sebelumnya dengan menggunakan testing dataset dengan batch_size = 250."
      ]
    },
    {
      "cell_type": "code",
      "metadata": {
        "id": "RgXTjc79cabq",
        "colab": {
          "base_uri": "https://localhost:8080/"
        },
        "outputId": "83dc1d0a-48d7-4ad3-dbbd-e768bd52ef85"
      },
      "source": [
        "pca_model.evaluate(pca_test, y_test, batch_size=250)"
      ],
      "execution_count": null,
      "outputs": [
        {
          "output_type": "stream",
          "text": [
            "24/24 [==============================] - 0s 3ms/step - loss: 0.2788 - accuracy: 0.9005\n"
          ],
          "name": "stdout"
        },
        {
          "output_type": "execute_result",
          "data": {
            "text/plain": [
              "[0.27879369258880615, 0.9004999995231628]"
            ]
          },
          "metadata": {
            "tags": []
          },
          "execution_count": 44
        }
      ]
    },
    {
      "cell_type": "markdown",
      "metadata": {
        "id": "xrn6-FAQK44Z"
      },
      "source": [
        "> Melakukan evaluation model plotting pada hasil training dan validation yang dilakukan sebelumnya pada 'model.fit'."
      ]
    },
    {
      "cell_type": "code",
      "metadata": {
        "colab": {
          "base_uri": "https://localhost:8080/",
          "height": 591
        },
        "id": "ZLhpoStu187f",
        "outputId": "0b0a980a-48cc-4cb2-a580-3c488f6ee66c"
      },
      "source": [
        "plot_eval(pca_his)"
      ],
      "execution_count": null,
      "outputs": [
        {
          "output_type": "display_data",
          "data": {
            "image/png": "[encoded data removed]",
            "text/plain": [
              "<Figure size 432x288 with 1 Axes>"
            ]
          },
          "metadata": {
            "tags": [],
            "needs_background": "light"
          }
        },
        {
          "output_type": "stream",
          "text": [
            "\n"
          ],
          "name": "stdout"
        },
        {
          "output_type": "display_data",
          "data": {
            "image/png": "[encoded data removed]",
            "text/plain": [
              "<Figure size 432x288 with 1 Axes>"
            ]
          },
          "metadata": {
            "tags": [],
            "needs_background": "light"
          }
        }
      ]
    },
    {
      "cell_type": "markdown",
      "metadata": {
        "id": "FEzp_Lk2Q7zm"
      },
      "source": [
        "> Sama seperti model sebelumnya (Fashion MNIST tanpa PCA), model yang dilatih bekerja dengan baik. Nilai akurasi terus mengalami kenaikan dan nilai loss terus mengalami penurunan seiring dengan naiknya jumlah epoch baik pada training maupun testing dataset. Saya berasumsi hal ini dapat tercapai karena banyak jumlah dataset yang digunakan baik untuk training (60,000) maupun testing (6,000). Sehingga model dapat lebih adaptif dalam mengenal pola dari dataset yang diberikan."
      ]
    }
  ]
}